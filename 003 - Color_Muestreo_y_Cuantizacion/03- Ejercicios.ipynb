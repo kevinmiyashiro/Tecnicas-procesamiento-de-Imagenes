{
  "nbformat": 4,
  "nbformat_minor": 0,
  "metadata": {
    "colab": {
      "provenance": []
    },
    "kernelspec": {
      "name": "python3",
      "display_name": "Python 3"
    },
    "language_info": {
      "name": "python"
    }
  },
  "cells": [
    {
      "cell_type": "markdown",
      "source": [
        "#Laboratorio Práctico: Procesamiento de Imágenes\n",
        "**Tiempo estimado:** 50 minutos\n",
        "\n",
        "**Objetivos:** Al finalizar este laboratorio, vas a poder aplicar conceptos fundamentales de manipulación, análisis y segmentación de imágenes utilizando las librerías `OpenCV` y `scikit-image`     "
      ],
      "metadata": {
        "id": "mNAEqFL3-dH3"
      }
    },
    {
      "cell_type": "code",
      "execution_count": null,
      "metadata": {
        "id": "22YxSTj1-Yo2"
      },
      "outputs": [],
      "source": [
        "# Importación de las librerías necesarias para el laboratorio\n",
        "import numpy as np\n",
        "import cv2\n",
        "from cv2 import imread\n",
        "import matplotlib.pyplot as plt\n",
        "import skimage as ski\n",
        "from skimage import filters, feature, exposure\n",
        "from PIL import Image"
      ]
    },
    {
      "cell_type": "markdown",
      "source": [
        "##Parte 0: Preparación del Entorno (5 minutos)\n",
        "\n",
        "Primero, vamos a descargar las imágenes que vamos a usar en los ejercicios. Con estos comandos, las guardamos en el entorno de ejecución del notebook.\n",
        "\n",
        "- `texto.png:` Una imagen con texto, ideal para el análisis de bordes.\n",
        "\n",
        "- `paisaje.jpg:` Una imagen a color para la manipulación de canales.\n",
        "\n",
        "- `monedas.jpg:` Una imagen de monedas sobre un fondo, perfecta para segmentación."
      ],
      "metadata": {
        "id": "V2D2VZ25-9Qa"
      }
    },
    {
      "cell_type": "code",
      "source": [
        "# Descarga de las imágenes de trabajo\n",
        "!wget -q https://lh3.googleusercontent.com/proxy/0Lf8l5VqGTH-Xv7EWfMiY-l4EVxRzuYYtAN9GI_eXCuioGp0K2BsrXo38WAMRjJR3aNB-602vjmichZ9dpN7rcoiNtpRSyIIakM -O texto.png\n",
        "!wget -q https://www2.eecs.berkeley.edu/Research/Projects/CS/vision/bsds/BSDS300/html/images/plain/normal/color/124084.jpg -O paisaje.jpg\n",
        "!wget -q https://d1lfxha3ugu3d4.cloudfront.net/images/opencollection/archives/size2/S03i3165l01.jpg -O monedas.jpg\n",
        "\n",
        "print(\"Imágenes descargadas correctamente.\")"
      ],
      "metadata": {
        "colab": {
          "base_uri": "https://localhost:8080/"
        },
        "id": "EUCSAv3V_Og5",
        "outputId": "431522b4-8752-4028-dc90-bec910145afc"
      },
      "execution_count": null,
      "outputs": [
        {
          "output_type": "stream",
          "name": "stdout",
          "text": [
            "Imágenes descargadas correctamente.\n"
          ]
        }
      ]
    },
    {
      "cell_type": "code",
      "source": [
        "# Función auxiliar que vamos a usar durante todo el laboratorio\n",
        "def mostrar_imagenes(imagenes, titulos, cmap='gray', figsize=(12, 4)):\n",
        "    \"\"\"\n",
        "    Función auxiliar para visualizar una o más imágenes en una misma fila.\n",
        "    \"\"\"\n",
        "    n = len(imagenes)\n",
        "    fig, axes = plt.subplots(1, n, figsize=figsize)\n",
        "    if n == 1:\n",
        "        axes = [axes] # Hacemos que sea iterable si es una sola imagen\n",
        "    for ax, img, titulo in zip(axes, imagenes, titulos):\n",
        "        # Usamos el mapa de color 'cmap' solo si la imagen es en escala de grises\n",
        "        ax.imshow(img, cmap=cmap if len(img.shape) == 2 else None)\n",
        "        ax.set_title(titulo)\n",
        "        ax.axis('off')\n",
        "    plt.tight_layout()\n",
        "    plt.show()"
      ],
      "metadata": {
        "id": "2in5syC0Acme"
      },
      "execution_count": null,
      "outputs": []
    },
    {
      "cell_type": "markdown",
      "source": [
        "###Ejercicio 1: Análisis y Manipulación Básica (10 minutos)\n",
        "\n",
        "Empezamos con lo fundamental: cargar una imagen y entender su estructura.\n",
        "\n",
        "Tareas:\n",
        "\n",
        "- Cargá la imagen `paisaje.jpg` usando OpenCV.\n",
        "\n",
        "- Implementá una función que analice y muestre sus propiedades principales.\n",
        "\n",
        "- Extraé y visualizá cada canal de color (Azul, Verde, Rojo) por separado.\n",
        "\n",
        "- Convertí la imagen del formato BGR (propio de OpenCV) a RGB y comparala con la original."
      ],
      "metadata": {
        "id": "UmiiAewmAj96"
      }
    },
    {
      "cell_type": "code",
      "source": [
        "# ESPACIO PARA TU CÓDIGO - EJERCICIO 1\n",
        "# --------------------------------------\n",
        "\n",
        "# 1.1: Cargá la imagen 'paisaje.jpg'\n",
        "# img_paisaje = ...\n",
        "\n",
        "# 1.2: Implementá esta función\n",
        "def analizar_imagen(img):\n",
        "    \"\"\"\n",
        "    Debe imprimir en consola:\n",
        "    - Dimensiones (alto x ancho x canales)\n",
        "    - Tipo de datos de los píxeles (ej: uint8)\n",
        "    - Valores de intensidad mínimo y máximo\n",
        "    - Cantidad total de píxeles\n",
        "    \"\"\"\n",
        "    # Tu código acá\n",
        "    pass\n",
        "\n",
        "# 1.3: Extraé cada canal de color\n",
        "# Recordá que OpenCV carga las imágenes en formato BGR\n",
        "# canal_b = ...\n",
        "# canal_g = ...\n",
        "# canal_r = ...\n",
        "\n",
        "# 1.4: Convertí la imagen de BGR a RGB\n",
        "# img_rgb = ...\n",
        "\n",
        "# Visualización sugerida (descomentar cuando tengas las variables):\n",
        "# mostrar_imagenes([canal_b, canal_g, canal_r],\n",
        "#                  ['Canal Azul', 'Canal Verde', 'Canal Rojo'])\n",
        "# mostrar_imagenes([img_paisaje, img_rgb],\n",
        "#                  ['Imagen Original (BGR)', 'Imagen Convertida (RGB)'])"
      ],
      "metadata": {
        "id": "cr0HbmSJA4sI"
      },
      "execution_count": null,
      "outputs": []
    },
    {
      "cell_type": "code",
      "source": [
        "# --- Pregunta Conceptual ---\n",
        "print(\"Pregunta Conceptual 1:\")\n",
        "print(\"¿Por qué la imagen se ve con colores extraños cuando se muestra\")\n",
        "print(\"directamente con matplotlib después de cargarla con OpenCV?\")"
      ],
      "metadata": {
        "id": "q--eF27GBEXj"
      },
      "execution_count": null,
      "outputs": []
    },
    {
      "cell_type": "code",
      "source": [
        "print(\"Tu respuesta: _______________________________________________\\n\")"
      ],
      "metadata": {
        "id": "0SFkpSpkBKMy"
      },
      "execution_count": null,
      "outputs": []
    },
    {
      "cell_type": "markdown",
      "source": [
        "### Ejercicio 2: Transformaciones Geométricas (10 minutos)\n",
        "\n",
        "Ahora vamos a manipular la geometría de la imagen.\n",
        "\n",
        "Tareas:\n",
        "\n",
        "- Recortá una \"región de interés\" (ROI) de 100x100 píxeles de la imagen del paisaje.\n",
        "\n",
        "- Redimensioná ese recorte para que mida 200x200 píxeles.\n",
        "\n",
        "- Creá un mosaico de 2x2 utilizando el recorte redimensionado.\n",
        "\n",
        "- (Opcional) Aplicá una rotación de 45 grados al recorte original."
      ],
      "metadata": {
        "id": "Ciim5AokBPBN"
      }
    },
    {
      "cell_type": "code",
      "source": [
        "# ESPACIO PARA TU CÓDIGO - EJERCICIO 2\n",
        "# --------------------------------------\n",
        "\n",
        "# 2.1: Definí y extraé una región de interés (ROI)\n",
        "# roi = img_paisaje[y:y+h, x:x+w] # Completá los índices\n",
        "# roi = ...\n",
        "\n",
        "# 2.2: Redimensioná la ROI a 200x200\n",
        "# roi_grande = cv2.resize(...)\n",
        "\n",
        "# 2.3: Creá un mosaico 2x2\n",
        "# Pista: usá np.vstack para apilar verticalmente y np.hstack para apilar horizontalmente.\n",
        "# fila1 = np.hstack([roi_grande, roi_grande])\n",
        "# fila2 = np.hstack([roi_grande, roi_grande])\n",
        "# mosaico = np.vstack([fila1, fila2])\n",
        "# mosaico = ...\n",
        "\n",
        "# 2.4: BONUS - Rotación\n",
        "# Para rotar, necesitás una matriz de rotación y luego aplicar una transformación afín.\n",
        "# centro = (roi.shape[1] // 2, roi.shape[0] // 2)\n",
        "# angulo = 45\n",
        "# M = cv2.getRotationMatrix2D(centro, angulo, 1.0)\n",
        "# roi_rotado = cv2.warpAffine(...)"
      ],
      "metadata": {
        "id": "rteFx3UHBYxW"
      },
      "execution_count": null,
      "outputs": []
    },
    {
      "cell_type": "code",
      "source": [
        "# --- Pregunta Conceptual ---\n",
        "print(\"\\nPregunta Conceptual 2:\")\n",
        "print(\"¿Cuál es la diferencia principal entre recortar (crop) y redimensionar (resize)?\")\n",
        "print(\"¿En qué casos prácticos usarías cada operación?\")"
      ],
      "metadata": {
        "id": "TNUeV0jDBhK5"
      },
      "execution_count": null,
      "outputs": []
    },
    {
      "cell_type": "code",
      "source": [
        "print(\"Tu respuesta: _______________________________________________\\n\")"
      ],
      "metadata": {
        "id": "EQSaz1zJBjgy"
      },
      "execution_count": null,
      "outputs": []
    },
    {
      "cell_type": "markdown",
      "source": [
        "### Ejercicio 3: Detección de Bordes (OpenCV vs. Scikit-image) (10 minutos)\n",
        "\n",
        "En este ejercicio, vamos a comparar dos de los algoritmos más populares para la detección de bordes.\n",
        "\n",
        "Tareas:\n",
        "\n",
        "- Cargá la imagen `texto.png` y convertila a escala de grises.\n",
        "\n",
        "- Aplicá el detector de bordes Canny con OpenCV. Experimentá con distintos umbrales.\n",
        "\n",
        "- Aplicá el detector de bordes Sobel con scikit-image.\n",
        "\n",
        "- Compará visualmente los resultados de ambos métodos."
      ],
      "metadata": {
        "id": "vctgmn3FBr6U"
      }
    },
    {
      "cell_type": "code",
      "source": [
        "# ESPACIO PARA TU CÓDIGO - EJERCICIO 3\n",
        "# --------------------------------------\n",
        "\n",
        "# 3.1: Cargá 'texto.png' y convertila a escala de grises\n",
        "# img_texto = imread('texto.png')\n",
        "# img_gray = cv2.cvtColor(...)\n",
        "\n",
        "# 3.2: Aplicá Canny con OpenCV\n",
        "# Probá con diferentes umbrales, por ejemplo: (50, 150), (100, 200)\n",
        "# bordes_canny = cv2.Canny(...)\n",
        "\n",
        "# 3.3: Aplicá Sobel con scikit-image\n",
        "# bordes_sobel = ski.filters.sobel(...)\n",
        "\n",
        "# 3.4: Para una mejor comparación, aplicá también Canny con scikit-image\n",
        "# Nota: scikit-image espera que los valores de la imagen estén entre 0 y 1.\n",
        "# bordes_ski_canny = ski.feature.canny(img_gray / 255.0)\n",
        "\n",
        "# Visualización sugerida:\n",
        "# mostrar_imagenes([img_gray, bordes_canny, bordes_sobel, bordes_ski_canny],\n",
        "#                  ['Original', 'Canny (OpenCV)', 'Sobel (Scikit)', 'Canny (Scikit)'])"
      ],
      "metadata": {
        "id": "LxJ-s07EB49v"
      },
      "execution_count": null,
      "outputs": []
    },
    {
      "cell_type": "code",
      "source": [
        "# --- Pregunta Conceptual ---\n",
        "print(\"\\nPregunta Conceptual 3:\")\n",
        "print(\"¿Qué diferencias fundamentales observás entre los resultados de Canny y Sobel?\")\n",
        "print(\"¿Cuándo preferirías usar uno sobre el otro?\")"
      ],
      "metadata": {
        "id": "L-ox_XDyCCWj"
      },
      "execution_count": null,
      "outputs": []
    },
    {
      "cell_type": "code",
      "source": [
        "print(\"Tu respuesta: _______________________________________________\\n\")"
      ],
      "metadata": {
        "id": "W7a1TDk0CETX"
      },
      "execution_count": null,
      "outputs": []
    },
    {
      "cell_type": "markdown",
      "source": [
        "## Ejercicio 4: Segmentación de Monedas (10 minutos)\n",
        "\n",
        "La segmentación consiste en dividir una imagen en regiones significativas. La umbralización (thresholding) es una de las técnicas más simples para lograrlo.\n",
        "\n",
        "Tareas:\n",
        "\n",
        "- Cargá `monedas.jpg` y convertila a escala de grises.\n",
        "\n",
        "- Implementá tu propia función para segmentar por umbral.\n",
        "\n",
        "- Probá la función con diferentes valores de umbral.\n",
        "\n",
        "- Calculá el área segmentada (cantidad de píxeles blancos) para cada umbral."
      ],
      "metadata": {
        "id": "e5DJl__fCIo3"
      }
    },
    {
      "cell_type": "code",
      "source": [
        "# ESPACIO PARA TU CÓDIGO - EJERCICIO 4\n",
        "# --------------------------------------\n",
        "\n",
        "# 4.1: Cargá la imagen de monedas y pasala a escala de grises\n",
        "# img_monedas = imread('monedas.jpg')\n",
        "# monedas_gray = ...\n",
        "\n",
        "# 4.2: Implementá esta función\n",
        "def segmentar_umbral(imagen, umbral):\n",
        "    \"\"\"\n",
        "    Segmenta una imagen usando un umbral fijo.\n",
        "    - Los píxeles con valor > umbral se convierten en 255 (blanco).\n",
        "    - Los píxeles con valor <= umbral se convierten en 0 (negro).\n",
        "\n",
        "    Debe retornar la imagen segmentada y el área en píxeles (cantidad de píxeles blancos).\n",
        "    Pista: podés usar np.where() o indexación booleana de NumPy.\n",
        "    \"\"\"\n",
        "    # Tu código acá\n",
        "    pass\n",
        "\n",
        "# 4.3: Probá con diferentes umbrales y mostrá los resultados\n",
        "# umbrales = [80, 120, 160]\n",
        "# for t in umbrales:\n",
        "#     segmentada, area = segmentar_umbral(monedas_gray, t)\n",
        "#     print(f\"Umbral {t}: área segmentada = {area} píxeles\")\n",
        "#     mostrar_imagenes([monedas_gray, segmentada], [f'Original', f'Umbral = {t}'])"
      ],
      "metadata": {
        "id": "v45m1l0tCU2-"
      },
      "execution_count": null,
      "outputs": []
    },
    {
      "cell_type": "code",
      "source": [
        "# --- Pregunta Conceptual ---\n",
        "print(\"\\nPregunta Conceptual 4:\")\n",
        "print(\"¿Cómo afecta una iluminación no uniforme a la segmentación por umbral?\")\n",
        "print(\"¿Qué estrategia podrías usar para mitigar este problema?\")"
      ],
      "metadata": {
        "id": "h6kIiKhuCayN"
      },
      "execution_count": null,
      "outputs": []
    },
    {
      "cell_type": "code",
      "source": [
        "print(\"Tu respuesta: _______________________________________________\\n\")"
      ],
      "metadata": {
        "id": "zWI83mKmCcgV"
      },
      "execution_count": null,
      "outputs": []
    },
    {
      "cell_type": "markdown",
      "source": [
        "### Ejercicio 5: Análisis con Histogramas (5 minutos)\n",
        "\n",
        "El histograma de una imagen nos da información valiosa sobre la distribución de las intensidades de los píxeles.\n",
        "\n",
        "Tareas:\n",
        "\n",
        "- Calculá el histograma de la imagen de las monedas en escala de grises.\n",
        "\n",
        "- Identificá cuál es el nivel de gris más frecuente en la imagen.\n",
        "\n",
        "- Visualizá el histograma."
      ],
      "metadata": {
        "id": "hbWMRTYRCg3I"
      }
    },
    {
      "cell_type": "code",
      "source": [
        "# ESPACIO PARA TU CÓDIGO - EJERCICIO 5\n",
        "# --------------------------------------\n",
        "\n",
        "# 5.1: Calculá el histograma usando scikit-image\n",
        "# hist, bins = ski.exposure.histogram(monedas_gray)\n",
        "\n",
        "# 5.2: Encontrá el valor de gris más frecuente\n",
        "# Pista: usá np.argmax() sobre el histograma para encontrar el índice del valor máximo.\n",
        "# valor_mas_frecuente = bins[np.argmax(hist)]\n",
        "# print(f\"El nivel de gris más frecuente es: {valor_mas_frecuente}\")\n",
        "\n",
        "# 5.3: Visualizá el histograma con matplotlib\n",
        "# plt.figure(figsize=(10, 4))\n",
        "# plt.plot(bins, hist)\n",
        "# plt.title('Histograma de Intensidades')\n",
        "# plt.xlabel('Nivel de Gris')\n",
        "# plt.ylabel('Frecuencia (cantidad de píxeles)')\n",
        "# plt.grid(True)\n",
        "# plt.show()"
      ],
      "metadata": {
        "id": "esPo-YPaCn-4"
      },
      "execution_count": null,
      "outputs": []
    },
    {
      "cell_type": "code",
      "source": [
        "# --- Pregunta Conceptual ---\n",
        "print(\"\\nPregunta Conceptual 5:\")\n",
        "print(\"Observando el histograma, ¿qué información te puede ayudar a elegir\")\n",
        "print(\"un buen valor de umbral para la segmentación del ejercicio anterior?\")"
      ],
      "metadata": {
        "id": "H5zRExXZCt1M"
      },
      "execution_count": null,
      "outputs": []
    },
    {
      "cell_type": "code",
      "source": [
        "print(\"Tu respuesta: _______________________________________________\\n\")"
      ],
      "metadata": {
        "id": "oElRpYUgCvZ1"
      },
      "execution_count": null,
      "outputs": []
    },
    {
      "cell_type": "markdown",
      "source": [
        "###Ejercicio Integrador: Pipeline Completo (10 minutos)\n",
        "\n",
        "¡Llegó el momento de juntar todo! Vamos a crear una única función que realice un flujo de trabajo completo de procesamiento de imágenes.\n",
        "\n",
        "Objetivo:\n",
        "\n",
        "- Creá una función pipeline_procesamiento que reciba la ruta de una imagen y aplique una secuencia de pasos:\n",
        "\n",
        "- Cargar la imagen.\n",
        "\n",
        "- Realizar un preprocesamiento (convertir a escala de grises).\n",
        "\n",
        "- Detectar los bordes.\n",
        "\n",
        "- Segmentar la imagen original en escala de grises.\n",
        "\n",
        "- Devolver y mostrar todos los resultados intermedios y finales."
      ],
      "metadata": {
        "id": "xniIkPp5Cz8z"
      }
    },
    {
      "cell_type": "code",
      "source": [
        "# ESPACIO PARA TU CÓDIGO - EJERCICIO INTEGRADOR\n",
        "# --------------------------------------\n",
        "\n",
        "def pipeline_procesamiento(ruta_imagen, umbral_seg=120, canny_low=50, canny_high=150):\n",
        "    \"\"\"\n",
        "    Pipeline que realiza un procesamiento de imagen de punta a punta.\n",
        "\n",
        "    Parámetros:\n",
        "    - ruta_imagen: Path al archivo de la imagen.\n",
        "    - umbral_seg: Umbral para la segmentación.\n",
        "    - canny_low, canny_high: Umbrales para el detector Canny.\n",
        "\n",
        "    Retorna:\n",
        "    - Un diccionario con las imágenes procesadas en cada paso.\n",
        "    \"\"\"\n",
        "    resultados = {}\n",
        "\n",
        "    # 1. Cargar la imagen\n",
        "    # ...\n",
        "    # resultados['Original'] = ...\n",
        "\n",
        "    # 2. Convertir a escala de grises\n",
        "    # ...\n",
        "    # resultados['Gris'] = ...\n",
        "\n",
        "    # 3. Aplicar detector de bordes Canny\n",
        "    # ...\n",
        "    # resultados['Bordes'] = ...\n",
        "\n",
        "    # 4. Aplicar segmentación por umbral\n",
        "    # ...\n",
        "    # resultados['Segmentada'] = ...\n",
        "\n",
        "    return resultados\n",
        "\n",
        "# Probá tu pipeline con una de las imágenes\n",
        "# resultados = pipeline_procesamiento('monedas.jpg')\n",
        "# if resultados:\n",
        "#     mostrar_imagenes(list(resultados.values()), list(resultados.keys()))"
      ],
      "metadata": {
        "id": "y8roOHGwC_Cn"
      },
      "execution_count": null,
      "outputs": []
    },
    {
      "cell_type": "markdown",
      "source": [
        "###Reflexión y Síntesis (5 minutos)\n",
        "\n",
        "¡Felicitaciones por completar el laboratorio! Tómate un momento para reflexionar sobre lo que aprendiste.\n",
        "\n",
        "#### Preguntas de Síntesis:\n",
        "\n",
        "- ¿Cuáles fueron las principales diferencias que notaste entre usar OpenCV y scikit-image? Por ejemplo, en la forma de llamar a las funciones o en los formatos de imagen que esperan.\n",
        "\n",
        "- Pensá en una aplicación real o práctica para cada una de las siguientes técnicas:\n",
        "\n",
        "`Detección de bordes:` ___________________\n",
        "\n",
        "`Segmentación por umbral:` ___________________\n",
        "\n",
        "`Manipulación de canales de color:` ___________________\n",
        "\n",
        "- Si tuvieras que procesar automáticamente un lote de 1000 imágenes, ¿qué consideraciones adicionales tendrías en cuenta que no fueron cruciales en este laboratorio (por ejemplo, manejo de errores, variabilidad entre imágenes, eficiencia)?"
      ],
      "metadata": {
        "id": "KAoxw9Y-DDGb"
      }
    }
  ]
}
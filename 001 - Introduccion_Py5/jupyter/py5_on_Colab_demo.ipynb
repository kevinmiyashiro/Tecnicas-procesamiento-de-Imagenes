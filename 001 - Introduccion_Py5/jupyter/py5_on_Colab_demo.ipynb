{
  "cells": [
    {
      "cell_type": "markdown",
      "metadata": {
        "id": "8V_V_aIPhnhe"
      },
      "source": [
        "# Usando py5 en Google Colab"
      ]
    },
    {
      "cell_type": "markdown",
      "metadata": {
        "id": "MHTn4JeuiHdD"
      },
      "source": [
        "## Configuración del entorno\n",
        "\n",
        "Por favor, ejecuta las siguientes celdas antes de comenzar."
      ]
    },
    {
      "cell_type": "code",
      "execution_count": null,
      "metadata": {
        "colab": {
          "base_uri": "https://localhost:8080/"
        },
        "id": "IXXKhStRrk35",
        "outputId": "327be078-4791-46a5-b643-a67a8d626abb"
      },
      "outputs": [],
      "source": [
        "!pip install install-jdk --quiet\n",
        "!python -c \"import jdk; print('Java installed to', jdk.install('17'))\""
      ]
    },
    {
      "cell_type": "code",
      "execution_count": null,
      "metadata": {
        "id": "rSrJ7gvArxJI"
      },
      "outputs": [],
      "source": [
        "!apt-get -qq install ca-certificates-java libxcursor1 libxrandr2 libxrender1 libxtst6 libxi6 xvfb > /dev/null # remove `> /dev/null` to see output"
      ]
    },
    {
      "cell_type": "code",
      "execution_count": null,
      "metadata": {
        "colab": {
          "base_uri": "https://localhost:8080/"
        },
        "id": "ZABpVzCt8ih_",
        "outputId": "28d97bdf-adfd-48bc-c52b-238957a48d83"
      },
      "outputs": [],
      "source": [
        "# Esto es muy importante, de lo contrario obtendrás el error de \"headless mode\".\n",
        "!nohup /usr/bin/Xvfb :0 -screen 0 1024x768x24 &\n",
        "%env DISPLAY=:0"
      ]
    },
    {
      "cell_type": "code",
      "execution_count": null,
      "metadata": {
        "colab": {
          "base_uri": "https://localhost:8080/"
        },
        "id": "csZBj1bysLjD",
        "outputId": "1153fca5-b9c2-4c3e-89fd-871f2ba6b047"
      },
      "outputs": [],
      "source": [
        "# No instales py5[extras] porque actualizará iPython y otros paquetes,\n",
        "# lo que rompe la sesión y obliga a Colab a reiniciarse, reiniciando la instalación infinitamente.\n",
        "\n",
        "!pip install py5 --quiet # elimina `--quiet` si quieres ver los detalles de la instalación"
      ]
    },
    {
      "cell_type": "code",
      "execution_count": null,
      "metadata": {
        "colab": {
          "base_uri": "https://localhost:8080/"
        },
        "id": "OuF9541PDVF6",
        "outputId": "3851166a-8c7f-49e9-c26f-0fa3e030c302"
      },
      "outputs": [],
      "source": [
        "# Opcionalmente, puedes intentar instalar manualmente algunos extras...\n",
        "# https://trimesh.org/install.html trimesh[easy] también instalará\n",
        "# shapely y networkx. Ten en cuenta que matplotlib ya está preinstalado.\n",
        "\n",
        "!pip install trimesh[easy] --quiet # elimina `--quiet` si quieres ver los detalles"
      ]
    },
    {
      "cell_type": "markdown",
      "metadata": {
        "id": "eWsaVrN4hw19"
      },
      "source": [
        "## ¡Ahora a probar **py5**!"
      ]
    },
    {
      "cell_type": "code",
      "execution_count": null,
      "metadata": {
        "id": "YkCsH8wtskbP"
      },
      "outputs": [],
      "source": [
        "import py5\n",
        "import py5_tools\n"
      ]
    },
    {
      "cell_type": "code",
      "execution_count": null,
      "metadata": {
        "id": "WTNzo8Xdu89O"
      },
      "outputs": [],
      "source": [
        "def setup():\n",
        "  py5.size(600, 600)\n",
        "  for _ in range(100):\n",
        "      py5.fill(py5.random_choice(('red', 'green', 'blue')), 100)\n",
        "      py5.square(py5.random(50, 500), py5.random(50, 500), py5.random(10, 30))\n"
      ]
    },
    {
      "cell_type": "code",
      "execution_count": null,
      "metadata": {
        "id": "irNvRExGvGRt"
      },
      "outputs": [],
      "source": [
        "py5.run_sketch()"
      ]
    },
    {
      "cell_type": "markdown",
      "metadata": {
        "id": "jyMxDnJpXgxg"
      },
      "source": [
        "A diferencia de una versión local del cuaderno, ejecutándose en Jupyter Lab, por ejemplo, no verás una ventana con tu sketch ejecutándose.\n",
        "\n",
        "Pero sí está corriendo y puedes tomar una captura usando  `py5_tools.screenshot()`. Después puedes detenerlo usando `py5.exit_sketch()`"
      ]
    },
    {
      "cell_type": "code",
      "execution_count": null,
      "metadata": {
        "colab": {
          "base_uri": "https://localhost:8080/",
          "height": 617
        },
        "id": "NhNKH14W8ZeU",
        "outputId": "301106ac-df18-4419-f883-aa03d32036fb"
      },
      "outputs": [],
      "source": [
        "py5_tools.screenshot()"
      ]
    },
    {
      "cell_type": "markdown",
      "metadata": {
        "id": "VWaLUiMD9JbN"
      },
      "source": [
        "WOW!"
      ]
    },
    {
      "cell_type": "code",
      "execution_count": null,
      "metadata": {
        "id": "9hiZphNk8vBl"
      },
      "outputs": [],
      "source": [
        "# If you want to run it again, stop the sketch.\n",
        "py5.exit_sketch()"
      ]
    },
    {
      "cell_type": "markdown",
      "metadata": {
        "id": "JFgdJtF1mSTX"
      },
      "source": [
        "## Más recursos para depuración del entorno"
      ]
    },
    {
      "cell_type": "code",
      "execution_count": null,
      "metadata": {
        "colab": {
          "base_uri": "https://localhost:8080/"
        },
        "id": "32aQpHdakbSC",
        "outputId": "9aed18d1-5bb1-4261-8897-78c5b27a1e62"
      },
      "outputs": [],
      "source": [
        "import py5_tools\n",
        "\n",
        "py5_tools.jvm.get_jvm_debug_info() # if you run this before py5 starts you get the system default JDK-11"
      ]
    }
  ],
  "metadata": {
    "colab": {
      "provenance": []
    },
    "kernelspec": {
      "display_name": "Python 3",
      "name": "python3"
    },
    "language_info": {
      "name": "python"
    }
  },
  "nbformat": 4,
  "nbformat_minor": 0
}

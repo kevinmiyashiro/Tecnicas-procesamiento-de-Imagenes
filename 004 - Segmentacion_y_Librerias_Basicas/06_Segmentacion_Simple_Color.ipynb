{
  "nbformat": 4,
  "nbformat_minor": 0,
  "metadata": {
    "colab": {
      "provenance": []
    },
    "kernelspec": {
      "name": "python3",
      "display_name": "Python 3"
    },
    "language_info": {
      "name": "python"
    }
  },
  "cells": [
    {
      "cell_type": "markdown",
      "source": [
        "# Segmentación Simple por Color\n",
        "## Ejemplo introductorio para procesamiento de imágenes"
      ],
      "metadata": {
        "id": "D7QKh-N1JxD7"
      }
    },
    {
      "cell_type": "code",
      "execution_count": null,
      "metadata": {
        "id": "kvqR9ZYvJrc0"
      },
      "outputs": [],
      "source": [
        "# Bibliotecas necesarias\n",
        "import numpy as np\n",
        "from cv2 import imread\n",
        "from google.colab.patches import cv2_imshow\n",
        "import matplotlib.pyplot as plt"
      ]
    },
    {
      "cell_type": "code",
      "source": [
        "# Función para analizar características de la imagen\n",
        "def info_img(img):\n",
        "    print('tamaño =', img.shape)\n",
        "    print('máximo =', np.max(img))\n",
        "    print('mínimo =', np.min(img))"
      ],
      "metadata": {
        "id": "B-76Kp-3J6yh"
      },
      "execution_count": null,
      "outputs": []
    },
    {
      "cell_type": "code",
      "source": [
        "# Descarga y lectura de imagen\n",
        "!wget https://www.dropbox.com/s/jetlnfihles3g7k/flowers.jpg"
      ],
      "metadata": {
        "id": "aGkJsrWyJ9I_"
      },
      "execution_count": null,
      "outputs": []
    },
    {
      "cell_type": "code",
      "source": [
        "img_cv = imread('flowers.jpg')      # formato opencv (BGR)\n",
        "cv2_imshow(img_cv)\n",
        "info_img(img_cv)"
      ],
      "metadata": {
        "id": "-jenpmMiKAK8"
      },
      "execution_count": null,
      "outputs": []
    },
    {
      "cell_type": "code",
      "source": [
        "# Conversión BGR a RGB\n",
        "img = img_cv[:,:,[2,1,0]]          # BGR a RGB\n",
        "plt.imshow(img)\n",
        "plt.show()"
      ],
      "metadata": {
        "id": "SgsaKKrxKHQF"
      },
      "execution_count": null,
      "outputs": []
    },
    {
      "cell_type": "code",
      "source": [
        "# Separación de canales de color\n",
        "rojo = img[:,:,0]\n",
        "verde = img[:,:,1]\n",
        "azul = img[:,:,2]\n",
        "canales = np.concatenate((rojo,verde,azul),axis=1)\n",
        "cv2_imshow(canales)"
      ],
      "metadata": {
        "id": "Qz7qumR7KKES"
      },
      "execution_count": null,
      "outputs": []
    },
    {
      "cell_type": "code",
      "source": [
        "# Conversión a escala de grises\n",
        "rojo_f = rojo.astype(float)\n",
        "verde_f = verde.astype(float)\n",
        "azul_f = azul.astype(float)\n",
        "# Promedio ponderado\n",
        "peso = (1/3,1/3,1/3)\n",
        "#peso = (0.1,0.4,0.5)  # pesos alternativos\n",
        "gris_f = peso[0]*rojo_f + peso[1]*verde_f + peso[2]*azul_f\n",
        "gris = gris_f.astype(int)\n",
        "info_img(gris)\n",
        "cv2_imshow(gris)"
      ],
      "metadata": {
        "id": "r6zZQpORKO8h"
      },
      "execution_count": null,
      "outputs": []
    },
    {
      "cell_type": "code",
      "source": [
        "# Función para mostrar histograma\n",
        "def histograma(X):\n",
        "    (N,M) = X.shape\n",
        "    n = 256\n",
        "    h = np.zeros((256,))\n",
        "    for i in range(N):\n",
        "        for j in range(M):\n",
        "            x = X[i,j]\n",
        "            h[x] = h[x]+1\n",
        "    plt.plot(range(n),h[0:n])\n",
        "    plt.title('Histograma')\n",
        "    plt.xlabel('Valor de pixel')\n",
        "    plt.ylabel('Frecuencia')\n",
        "    plt.show()"
      ],
      "metadata": {
        "id": "Pfg3SIk6KRes"
      },
      "execution_count": null,
      "outputs": []
    },
    {
      "cell_type": "code",
      "source": [
        "histograma(gris)"
      ],
      "metadata": {
        "id": "7FtFXKZDLN3X"
      },
      "execution_count": null,
      "outputs": []
    },
    {
      "cell_type": "code",
      "source": [
        "# Segmentación de la flor roja\n",
        "seg_r = rojo>150\n",
        "seg_v = verde<40\n",
        "seg_a = azul<40\n",
        "seg_rgb = np.concatenate((seg_r,seg_v,seg_a),axis=1)\n",
        "cv2_imshow(seg_rgb*255)"
      ],
      "metadata": {
        "id": "ltlrkyMwKUf0"
      },
      "execution_count": null,
      "outputs": []
    },
    {
      "cell_type": "code",
      "source": [
        "seg_rv = np.logical_and(seg_r,seg_v)\n",
        "seg = np.logical_and(seg_rv,seg_a)\n",
        "cv2_imshow(seg*255)"
      ],
      "metadata": {
        "id": "sK-0fsyMKlov"
      },
      "execution_count": null,
      "outputs": []
    },
    {
      "cell_type": "code",
      "source": [
        "# Eliminación de píxeles aislados\n",
        "(N,M) = seg.shape\n",
        "limpia = seg.copy()\n",
        "for i in range(N):\n",
        "    s = np.sum(seg[i,:])\n",
        "    if s<10:\n",
        "        limpia[i,:] = 0\n",
        "cv2_imshow(limpia*255)"
      ],
      "metadata": {
        "id": "MdBpP9sYKpim"
      },
      "execution_count": null,
      "outputs": []
    },
    {
      "cell_type": "code",
      "source": [
        "# Búsqueda de coordenadas del rectángulo\n",
        "i_min = 1000\n",
        "i_max = 0\n",
        "j_min = 1000\n",
        "j_max = 0\n",
        "for i in range(N):\n",
        "    for j in range(M):\n",
        "        if limpia[i,j]>0:\n",
        "            if i<i_min: i_min = i\n",
        "            if i>i_max: i_max = i\n",
        "            if j<j_min: j_min = j\n",
        "            if j>j_max: j_max = j"
      ],
      "metadata": {
        "id": "hTEADt6IKsCY"
      },
      "execution_count": null,
      "outputs": []
    },
    {
      "cell_type": "code",
      "source": [
        "# Dibujo del rectángulo\n",
        "y = [i_min,i_min,i_max,i_max,i_min]\n",
        "x = [j_min,j_max,j_max,j_min,j_min]\n",
        "plt.imshow(img)\n",
        "plt.plot(x,y)\n",
        "plt.title('Rectángulo delimitador')\n",
        "plt.show()"
      ],
      "metadata": {
        "id": "O46cx96yKwfn"
      },
      "execution_count": null,
      "outputs": []
    },
    {
      "cell_type": "code",
      "source": [
        "# Detección de bordes\n",
        "borde = np.zeros((N,M),np.uint8)\n",
        "# Bordes horizontales\n",
        "for i in range(N):\n",
        "    for j in range(1,M):\n",
        "        if limpia[i,j]!=limpia[i,j-1]:\n",
        "            borde[i,j] = 1\n",
        "            borde[i,j-1] = 1\n",
        "# Bordes verticales\n",
        "for i in range(1,N):\n",
        "    for j in range(M):\n",
        "        if limpia[i-1,j]!=limpia[i,j]:\n",
        "            borde[i,j] = 1\n",
        "            borde[i,j-1] = 1\n",
        "cv2_imshow(borde*255)"
      ],
      "metadata": {
        "id": "IvhqkXzgK1en"
      },
      "execution_count": null,
      "outputs": []
    },
    {
      "cell_type": "code",
      "source": [
        "# Resultado final con bordes en rojo\n",
        "img_final = img_cv.copy()\n",
        "for i in range(N):\n",
        "    for j in range(M):\n",
        "        if borde[i,j]==1:\n",
        "            img_final[i,j,:] = [255,0,0]\n",
        "cv2_imshow(img_final)"
      ],
      "metadata": {
        "id": "hK6KVoQ1K98m"
      },
      "execution_count": null,
      "outputs": []
    }
  ]
}
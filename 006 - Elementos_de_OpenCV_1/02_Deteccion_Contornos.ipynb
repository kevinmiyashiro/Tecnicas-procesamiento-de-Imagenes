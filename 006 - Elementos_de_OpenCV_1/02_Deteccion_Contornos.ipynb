{
  "cells": [
    {
      "cell_type": "markdown",
      "metadata": {
        "id": "g9K8bv4Wqn_K"
      },
      "source": [
        "# Detección de Contornos: Abriendo la Caja Negra\n",
        "\n",
        "**Tecnicatura Superior en Ciencias de Datos e IA**  \n",
        "*Procesamiento de Imágenes*\n",
        "\n",
        "---\n",
        "\n",
        "## Objetivos de Aprendizaje\n",
        "\n",
        "- **Entender** qué hace cada módulo y por qué lo necesitamos\n",
        "- **Descubrir** cómo funcionan los parámetros internamente\n",
        "- **Explorar** los algoritmos detrás de la detección de contornos\n",
        "- **Aplicar** conocimientos técnicos de forma creativa\n",
        "\n",
        "## Filosofía del Cuaderno\n",
        "\n",
        "No vamos a usar las herramientas \"a ciegas\". Como futuros científicos de datos, necesitamos entender **qué** hacemos, **cómo** lo hacemos, y **por qué** funciona.\n",
        "\n",
        "---"
      ]
    },
    {
      "cell_type": "markdown",
      "metadata": {
        "id": "nifzRaN9qn_O"
      },
      "source": [
        "## 1. Los Módulos: Conociendo a Nuestros Aliados\n",
        "\n",
        "Antes de programar, vamos a entender qué herramientas estamos usando y por qué cada una es importante."
      ]
    },
    {
      "cell_type": "markdown",
      "metadata": {
        "id": "rOur2kDoqn_O"
      },
      "source": [
        "### OpenCV (cv2): El Especialista en Visión\n",
        "\n",
        "**¿Qué es?** OpenCV es como un \"microscopio digital\" para imágenes.\n",
        "\n",
        "**¿Por qué cv2?** Históricamente, cv2 era la versión 2 de OpenCV, pero el nombre se mantuvo aunque ahora estemos en versiones superiores.\n",
        "\n",
        "**¿Qué hace internamente?**\n",
        "- Convierte imágenes en matrices de números\n",
        "- Aplica algoritmos matemáticos a esas matrices\n",
        "- Optimiza operaciones para velocidad (usa C++ por debajo)\n",
        "\n",
        "**En nuestro contexto:** Será nuestro \"detective de contornos\""
      ]
    },
    {
      "cell_type": "code",
      "execution_count": null,
      "metadata": {
        "colab": {
          "base_uri": "https://localhost:8080/"
        },
        "id": "451ljgctqn_O",
        "outputId": "d7b3aa58-6f13-4ab9-de9e-0a7a1943583c"
      },
      "outputs": [
        {
          "output_type": "stream",
          "name": "stdout",
          "text": [
            "OpenCV importado - Versión: 4.12.0\n",
            "Funciones que vamos a usar:\n",
            "   • cv2.findContours() - Encuentra los bordes\n",
            "   • cv2.contourArea() - Calcula áreas\n",
            "   • cv2.arcLength() - Calcula perímetros\n",
            "   • cv2.moments() - Extrae propiedades geométricas\n",
            "   • cv2.drawContours() - Dibuja resultados\n"
          ]
        }
      ],
      "source": [
        "import cv2\n",
        "\n",
        "print(f\"OpenCV importado - Versión: {cv2.__version__}\")\n",
        "print(\"Funciones que vamos a usar:\")\n",
        "print(\"   • cv2.findContours() - Encuentra los bordes\")\n",
        "print(\"   • cv2.contourArea() - Calcula áreas\")\n",
        "print(\"   • cv2.arcLength() - Calcula perímetros\")\n",
        "print(\"   • cv2.moments() - Extrae propiedades geométricas\")\n",
        "print(\"   • cv2.drawContours() - Dibuja resultados\")"
      ]
    },
    {
      "cell_type": "markdown",
      "metadata": {
        "id": "dBLHVNbMqn_P"
      },
      "source": [
        "### NumPy (np): El Matemático Universal\n",
        "\n",
        "**¿Qué es?** NumPy es como una \"calculadora súper poderosa\" para trabajar con listas gigantes de números.\n",
        "\n",
        "**¿Por qué lo necesitamos?**\n",
        "- Las imágenes son matrices de números (cada píxel es un número)\n",
        "- NumPy maneja estas matrices de forma eficiente\n",
        "- Permite operaciones matemáticas vectorizadas (muy rápidas)\n",
        "\n",
        "**Dato técnico:** NumPy usa memoria contigua y operaciones en C, por eso es tan rápido."
      ]
    },
    {
      "cell_type": "code",
      "execution_count": null,
      "metadata": {
        "colab": {
          "base_uri": "https://localhost:8080/"
        },
        "id": "duYHjxCgqn_Q",
        "outputId": "e30ced06-1b5b-4e29-973c-84b771c40acf"
      },
      "outputs": [
        {
          "output_type": "stream",
          "name": "stdout",
          "text": [
            "NumPy importado - Versión: 2.0.2\n",
            "Funciones que vamos a usar:\n",
            "   • np.zeros() - Crea matrices llenas de ceros\n",
            "   • np.array() - Convierte listas en arrays eficientes\n",
            "   • dtype=np.uint8 - Tipo de dato para imágenes (0-255)\n",
            "\n",
            "Ejemplo: Un píxel RGB = [255 128   0]\n",
            "   Tipo de dato: uint8\n",
            "   Rango válido: 0 a 255\n"
          ]
        }
      ],
      "source": [
        "import numpy as np\n",
        "\n",
        "print(f\"NumPy importado - Versión: {np.__version__}\")\n",
        "print(\"Funciones que vamos a usar:\")\n",
        "print(\"   • np.zeros() - Crea matrices llenas de ceros\")\n",
        "print(\"   • np.array() - Convierte listas en arrays eficientes\")\n",
        "print(\"   • dtype=np.uint8 - Tipo de dato para imágenes (0-255)\")\n",
        "\n",
        "# Demostración práctica\n",
        "ejemplo_pixel = np.array([255, 128, 0], dtype=np.uint8)\n",
        "print(f\"\\nEjemplo: Un píxel RGB = {ejemplo_pixel}\")\n",
        "print(f\"   Tipo de dato: {ejemplo_pixel.dtype}\")\n",
        "print(f\"   Rango válido: 0 a {np.iinfo(np.uint8).max}\")"
      ]
    },
    {
      "cell_type": "markdown",
      "metadata": {
        "id": "DK7z4Xvdqn_Q"
      },
      "source": [
        "### Matplotlib (plt): El Artista Visualizador\n",
        "\n",
        "**¿Qué es?** Matplotlib es como un \"pincel digital\" que convierte números en imágenes que podemos ver.\n",
        "\n",
        "**¿Por qué es crucial?**\n",
        "- Las computadoras \"ven\" números, nosotros necesitamos imágenes\n",
        "- Permite verificar visualmente que nuestros algoritmos funcionan\n",
        "- Esencial para comunicar resultados\n",
        "\n",
        "**Aspecto técnico:** Matplotlib interpreta matrices NumPy como mapas de colores."
      ]
    },
    {
      "cell_type": "code",
      "execution_count": null,
      "metadata": {
        "colab": {
          "base_uri": "https://localhost:8080/"
        },
        "id": "aVP0h8b_qn_Q",
        "outputId": "31aff24b-40c4-48ab-b017-1a021c4c24af"
      },
      "outputs": [
        {
          "output_type": "stream",
          "name": "stdout",
          "text": [
            "Matplotlib importado\n",
            "Configuraciones que vamos a usar:\n",
            "   • cmap='gray' - Mapa de colores en escala de grises\n",
            "   • figsize=(w,h) - Tamaño de la figura en pulgadas\n",
            "   • axis('off') - Oculta los ejes numéricos\n",
            "\n",
            "Configuración optimizada para Jupyter\n"
          ]
        }
      ],
      "source": [
        "import matplotlib.pyplot as plt\n",
        "\n",
        "print(\"Matplotlib importado\")\n",
        "print(\"Configuraciones que vamos a usar:\")\n",
        "print(\"   • cmap='gray' - Mapa de colores en escala de grises\")\n",
        "print(\"   • figsize=(w,h) - Tamaño de la figura en pulgadas\")\n",
        "print(\"   • axis('off') - Oculta los ejes numéricos\")\n",
        "\n",
        "# Configuración para mejor visualización\n",
        "plt.rcParams['figure.figsize'] = [10, 6]\n",
        "plt.rcParams['font.size'] = 11\n",
        "print(\"\\nConfiguración optimizada para Jupyter\")"
      ]
    },
    {
      "cell_type": "markdown",
      "metadata": {
        "id": "g3jn-7XOqn_R"
      },
      "source": [
        "## 2. Construyendo Nuestro Laboratorio Digital\n",
        "\n",
        "Ahora vamos a crear una imagen controlada para experimentos. Es como preparar una muestra en un laboratorio."
      ]
    },
    {
      "cell_type": "markdown",
      "metadata": {
        "id": "RTXXDJ7Sqn_R"
      },
      "source": [
        "### El Lienzo Digital: np.zeros()\n",
        "\n",
        "**¿Qué hace realmente `np.zeros()`?**\n",
        "- Reserva un bloque de memoria\n",
        "- Lo llena completamente con ceros\n",
        "- En términos de imagen: crea una \"hoja negra\"\n",
        "\n",
        "**Los parámetros explicados:**"
      ]
    },
    {
      "cell_type": "code",
      "execution_count": null,
      "metadata": {
        "colab": {
          "base_uri": "https://localhost:8080/"
        },
        "id": "7yejEgSsqn_R",
        "outputId": "08772ca2-b32f-41ec-8a28-bdb36dd483dd"
      },
      "outputs": [
        {
          "output_type": "stream",
          "name": "stdout",
          "text": [
            "Lienzo digital creado:\n",
            "   Dimensiones: 300 × 200 píxeles\n",
            "   Forma de la matriz: (200, 300)\n",
            "   Tipo de dato: uint8\n",
            "   Memoria usada: 60000 bytes\n",
            "\n",
            "Explorando la estructura interna:\n",
            "   Valor mínimo: 0 (negro absoluto)\n",
            "   Valor máximo: 0 (debería ser 0 por ahora)\n",
            "   Número total de píxeles: 60000\n",
            "\n",
            "Muestra de valores (esquina superior izquierda):\n",
            "[[0 0 0 0 0]\n",
            " [0 0 0 0 0]\n",
            " [0 0 0 0 0]]\n"
          ]
        }
      ],
      "source": [
        "# Creando nuestro lienzo digital\n",
        "altura = 200    # Número de filas (píxeles de arriba a abajo)\n",
        "ancho = 300     # Número de columnas (píxeles de izquierda a derecha)\n",
        "\n",
        "imagen = np.zeros((altura, ancho), dtype=np.uint8)\n",
        "\n",
        "print(\"Lienzo digital creado:\")\n",
        "print(f\"   Dimensiones: {ancho} × {altura} píxeles\")\n",
        "print(f\"   Forma de la matriz: {imagen.shape}\")\n",
        "print(f\"   Tipo de dato: {imagen.dtype}\")\n",
        "print(f\"   Memoria usada: {imagen.nbytes} bytes\")\n",
        "\n",
        "print(\"\\nExplorando la estructura interna:\")\n",
        "print(f\"   Valor mínimo: {imagen.min()} (negro absoluto)\")\n",
        "print(f\"   Valor máximo: {imagen.max()} (debería ser 0 por ahora)\")\n",
        "print(f\"   Número total de píxeles: {imagen.size}\")\n",
        "\n",
        "# Mostrar algunos valores de la esquina superior izquierda\n",
        "print(f\"\\nMuestra de valores (esquina superior izquierda):\")\n",
        "print(imagen[0:3, 0:5])  # Primeras 3 filas, primeras 5 columnas"
      ]
    },
    {
      "cell_type": "markdown",
      "metadata": {
        "id": "-BCeoiCTqn_R"
      },
      "source": [
        "### 🎯 Entendiendo dtype=np.uint8\n",
        "\n",
        "**¿Por qué uint8 y no otro tipo?**\n",
        "\n",
        "- **uint** = \"unsigned integer\" (entero sin signo, solo positivos)\n",
        "- **8** = 8 bits de información\n",
        "- **Rango:** 0 a 255 (2^8 = 256 valores posibles)\n",
        "- **Ventaja:** Estándar para imágenes, eficiente en memoria\n",
        "\n",
        "**¿Qué significan los valores?**\n",
        "- 0 = Negro absoluto\n",
        "- 255 = Blanco absoluto\n",
        "- 128 = Gris medio\n",
        "- Todo valor intermedio = Diferentes tonos de gris"
      ]
    },
    {
      "cell_type": "code",
      "execution_count": null,
      "metadata": {
        "colab": {
          "base_uri": "https://localhost:8080/"
        },
        "id": "NkKvJMeuqn_R",
        "outputId": "6095f026-1a21-4111-c322-fd8f389a96d2"
      },
      "outputs": [
        {
          "output_type": "stream",
          "name": "stdout",
          "text": [
            "🎨 Escala de grises - Valores y significados:\n",
            "     0 = Negro\n",
            "    64 = Gris oscuro\n",
            "   128 = Gris medio\n",
            "   192 = Gris claro\n",
            "   255 = Blanco\n",
            "\n",
            "💾 Comparación de tipos de datos:\n",
            "   uint8:  0 a 255 (1 byte por píxel)\n",
            "   uint16: 0 a 65535 (2 bytes por píxel)\n",
            "   float32: precisión decimal (4 bytes por píxel)\n",
            "\n",
            "💡 uint8 es el estándar porque balancea calidad y eficiencia\n"
          ]
        }
      ],
      "source": [
        "# Demostración de valores de píxeles\n",
        "print(\"🎨 Escala de grises - Valores y significados:\")\n",
        "valores_ejemplo = [0, 64, 128, 192, 255]\n",
        "nombres = ['Negro', 'Gris oscuro', 'Gris medio', 'Gris claro', 'Blanco']\n",
        "\n",
        "for valor, nombre in zip(valores_ejemplo, nombres):\n",
        "    print(f\"   {valor:3d} = {nombre}\")\n",
        "\n",
        "print(\"\\n💾 Comparación de tipos de datos:\")\n",
        "print(f\"   uint8:  0 a {np.iinfo(np.uint8).max} (1 byte por píxel)\")\n",
        "print(f\"   uint16: 0 a {np.iinfo(np.uint16).max} (2 bytes por píxel)\")\n",
        "print(f\"   float32: precisión decimal (4 bytes por píxel)\")\n",
        "print(\"\\n💡 uint8 es el estándar porque balancea calidad y eficiencia\")"
      ]
    },
    {
      "cell_type": "markdown",
      "metadata": {
        "id": "dYA6MV56qn_R"
      },
      "source": [
        "## 3. Dibujando con Matemática: cv2.fillPoly()\n",
        "\n",
        "Ahora vamos a \"dibujar\" un objeto, pero entendiendo qué hace la computadora internamente."
      ]
    },
    {
      "cell_type": "markdown",
      "metadata": {
        "id": "ozUFe1xzqn_R"
      },
      "source": [
        "### Definiendo Coordenadas: Sistema de Referencia\n",
        "\n",
        "**¿Cómo funciona el sistema de coordenadas en imágenes?**\n",
        "\n",
        "- **Origen (0,0):** Esquina superior izquierda (¡no como en matemática!)\n",
        "- **Eje X:** Horizontal, crece hacia la derecha\n",
        "- **Eje Y:** Vertical, crece hacia abajo\n",
        "- **Formato:** (x, y) = (columna, fila)"
      ]
    },
    {
      "cell_type": "code",
      "execution_count": null,
      "metadata": {
        "colab": {
          "base_uri": "https://localhost:8080/"
        },
        "id": "psiGZvBNqn_R",
        "outputId": "a5af25a1-08ac-4e69-eb2a-bd9c40e47cdb"
      },
      "outputs": [
        {
          "output_type": "stream",
          "name": "stdout",
          "text": [
            "Definiendo vértices del polígono:\n",
            "   Formato: [x, y] donde x=columna, y=fila\n",
            "   Recordar: origen (0,0) está arriba a la izquierda\n",
            "\n",
            "Vértices definidos:\n",
            "   Vértice 1: x= 50, y= 50\n",
            "   Vértice 2: x=200, y= 70\n",
            "   Vértice 3: x=180, y=150\n",
            "   Vértice 4: x= 40, y=120\n",
            "\n",
            "Información del array de puntos:\n",
            "   Forma: (4, 2) (4 puntos, 2 coordenadas cada uno)\n",
            "   Tipo: int32 (enteros de 32 bits)\n"
          ]
        }
      ],
      "source": [
        "# Definiendo los vértices de nuestro polígono\n",
        "print(\"Definiendo vértices del polígono:\")\n",
        "print(\"   Formato: [x, y] donde x=columna, y=fila\")\n",
        "print(\"   Recordar: origen (0,0) está arriba a la izquierda\\n\")\n",
        "\n",
        "puntos = np.array([\n",
        "    [50, 50],    # Vértice 1: cerca de la esquina superior izquierda\n",
        "    [200, 70],   # Vértice 2: hacia la derecha, un poco más abajo\n",
        "    [180, 150],  # Vértice 3: un poco a la izquierda, mucho más abajo\n",
        "    [40, 120]    # Vértice 4: hacia la izquierda, arriba del vértice 3\n",
        "], dtype=np.int32)\n",
        "\n",
        "print(\"Vértices definidos:\")\n",
        "for i, (x, y) in enumerate(puntos, 1):\n",
        "    print(f\"   Vértice {i}: x={x:3d}, y={y:3d}\")\n",
        "\n",
        "print(f\"\\nInformación del array de puntos:\")\n",
        "print(f\"   Forma: {puntos.shape} (4 puntos, 2 coordenadas cada uno)\")\n",
        "print(f\"   Tipo: {puntos.dtype} (enteros de 32 bits)\")"
      ]
    },
    {
      "cell_type": "markdown",
      "metadata": {
        "id": "xxF7SE7rqn_S"
      },
      "source": [
        "### 🔄 La Transformación Misteriosa: reshape(-1, 1, 2)\n",
        "\n",
        "**¿Por qué OpenCV necesita esta forma específica?**\n",
        "\n",
        "OpenCV espera contornos en formato: `[número_de_puntos, 1, 2]`\n",
        "\n",
        "- **-1:** \"Calculá automáticamente esta dimensión\"\n",
        "- **1:** Dimensión \"dummy\" por compatibilidad histórica\n",
        "- **2:** Las dos coordenadas (x, y)"
      ]
    },
    {
      "cell_type": "code",
      "execution_count": null,
      "metadata": {
        "colab": {
          "base_uri": "https://localhost:8080/"
        },
        "id": "BexYuZV9qn_S",
        "outputId": "1f80a0f5-2672-471c-d2af-7bcdcb7cb576"
      },
      "outputs": [
        {
          "output_type": "stream",
          "name": "stdout",
          "text": [
            "🔄 Transformación de forma para OpenCV:\n",
            "   Forma original: (4, 2)\n",
            "   Forma para OpenCV: (4, 1, 2)\n",
            "\n",
            "🔍 Comparando las estructuras:\n",
            "   Original (más intuitivo):\n",
            "   [50 50] <- Primer punto\n",
            "   [200  70] <- Segundo punto\n",
            "\n",
            "   Formato OpenCV (con dimensión extra):\n",
            "   [[50 50]] <- Primer punto\n",
            "   [[200  70]] <- Segundo punto\n",
            "\n",
            "💡 La dimensión '1' del medio es por compatibilidad con versiones anteriores\n",
            "   Permite manejar contornos con 'huecos' internos\n"
          ]
        }
      ],
      "source": [
        "print(\"🔄 Transformación de forma para OpenCV:\")\n",
        "print(f\"   Forma original: {puntos.shape}\")\n",
        "\n",
        "# La transformación que OpenCV necesita\n",
        "puntos_opencv = puntos.reshape((-1, 1, 2))\n",
        "print(f\"   Forma para OpenCV: {puntos_opencv.shape}\")\n",
        "\n",
        "print(\"\\n🔍 Comparando las estructuras:\")\n",
        "print(\"   Original (más intuitivo):\")\n",
        "print(f\"   {puntos[0]} <- Primer punto\")\n",
        "print(f\"   {puntos[1]} <- Segundo punto\")\n",
        "\n",
        "print(\"\\n   Formato OpenCV (con dimensión extra):\")\n",
        "print(f\"   {puntos_opencv[0]} <- Primer punto\")\n",
        "print(f\"   {puntos_opencv[1]} <- Segundo punto\")\n",
        "\n",
        "print(\"\\n💡 La dimensión '1' del medio es por compatibilidad con versiones anteriores\")\n",
        "print(\"   Permite manejar contornos con 'huecos' internos\")"
      ]
    },
    {
      "cell_type": "markdown",
      "metadata": {
        "id": "nhqN_aiNqn_S"
      },
      "source": [
        "### 🎨 El Algoritmo de Relleno: cv2.fillPoly()\n",
        "\n",
        "**¿Cómo funciona internamente el algoritmo de relleno?**\n",
        "\n",
        "1. **Scanline Algorithm:** Recorre línea por línea (fila por fila)\n",
        "2. **Ray Casting:** Para cada píxel, \"dispara\" un rayo hacia la derecha\n",
        "3. **Cuenta intersecciones:** Si es impar, está dentro; si es par, está fuera\n",
        "4. **Rellena píxeles:** Los que están \"dentro\" se pintan del color especificado"
      ]
    },
    {
      "cell_type": "code",
      "execution_count": null,
      "metadata": {
        "colab": {
          "base_uri": "https://localhost:8080/"
        },
        "id": "LZjWyB6nqn_S",
        "outputId": "9603ee4d-fb46-4820-9928-260dea59ae97"
      },
      "outputs": [
        {
          "output_type": "stream",
          "name": "stdout",
          "text": [
            "🎨 Aplicando cv2.fillPoly():\n",
            "\n",
            "📋 Parámetros explicados:\n",
            "   imagen: El lienzo donde dibujar (se modifica in-place)\n",
            "   [puntos_opencv]: Lista de polígonos (podríamos tener varios)\n",
            "   255: Valor del color (blanco en escala de grises)\n",
            "\n",
            "📊 Estadísticas del relleno:\n",
            "   Píxeles negros: 60000 → 48544\n",
            "   Píxeles blancos: 0 → 11456\n",
            "   Píxeles modificados: 11456\n",
            "   Área del polígono: 11456 píxeles²\n"
          ]
        }
      ],
      "source": [
        "# Aplicando el algoritmo de relleno\n",
        "print(\"🎨 Aplicando cv2.fillPoly():\")\n",
        "print(\"\\n📋 Parámetros explicados:\")\n",
        "print(\"   imagen: El lienzo donde dibujar (se modifica in-place)\")\n",
        "print(\"   [puntos_opencv]: Lista de polígonos (podríamos tener varios)\")\n",
        "print(\"   255: Valor del color (blanco en escala de grises)\")\n",
        "\n",
        "# Guardamos el estado antes del relleno\n",
        "pixeles_negros_antes = np.count_nonzero(imagen == 0)\n",
        "pixeles_blancos_antes = np.count_nonzero(imagen == 255)\n",
        "\n",
        "# ¡Aquí sucede la magia!\n",
        "cv2.fillPoly(imagen, [puntos_opencv], 255)\n",
        "\n",
        "# Analizamos qué cambió\n",
        "pixeles_negros_despues = np.count_nonzero(imagen == 0)\n",
        "pixeles_blancos_despues = np.count_nonzero(imagen == 255)\n",
        "\n",
        "print(\"\\n📊 Estadísticas del relleno:\")\n",
        "print(f\"   Píxeles negros: {pixeles_negros_antes} → {pixeles_negros_despues}\")\n",
        "print(f\"   Píxeles blancos: {pixeles_blancos_antes} → {pixeles_blancos_despues}\")\n",
        "print(f\"   Píxeles modificados: {pixeles_blancos_despues - pixeles_blancos_antes}\")\n",
        "print(f\"   Área del polígono: {pixeles_blancos_despues} píxeles²\")"
      ]
    },
    {
      "cell_type": "code",
      "execution_count": null,
      "metadata": {
        "colab": {
          "base_uri": "https://localhost:8080/",
          "height": 584
        },
        "id": "BztS9rQ1qn_S",
        "outputId": "d823595c-c780-4202-d8ee-a36eebc21672"
      },
      "outputs": [
        {
          "output_type": "display_data",
          "data": {
            "text/plain": [
              "<Figure size 1000x600 with 1 Axes>"
            ],
            "image/png": "[encoded data removed]"
          },
          "metadata": {}
        },
        {
          "output_type": "stream",
          "name": "stdout",
          "text": [
            "🎯 ¡Objetivo cumplido! Convertimos coordenadas matemáticas en píxeles\n"
          ]
        }
      ],
      "source": [
        "# Visualización del resultado\n",
        "plt.figure(figsize=(10, 6))\n",
        "plt.imshow(imagen, cmap='gray')\n",
        "plt.title('Polígono Rellenado: Del Código a la Imagen')\n",
        "\n",
        "# Agregar anotaciones de los vértices\n",
        "for i, (x, y) in enumerate(puntos, 1):\n",
        "    plt.plot(x, y, 'ro', markersize=8)\n",
        "    plt.annotate(f'V{i}\\n({x},{y})', (x, y), xytext=(5, 5),\n",
        "                textcoords='offset points', color='red', fontsize=10)\n",
        "\n",
        "plt.axis('on')  # Mantenemos los ejes para ver las coordenadas\n",
        "plt.xlabel('X (columnas)')\n",
        "plt.ylabel('Y (filas)')\n",
        "plt.grid(True, alpha=0.3)\n",
        "plt.show()\n",
        "\n",
        "print(\"🎯 ¡Objetivo cumplido! Convertimos coordenadas matemáticas en píxeles\")"
      ]
    },
    {
      "cell_type": "markdown",
      "metadata": {
        "id": "kr0ovt0Kqn_S"
      },
      "source": [
        "## 4. El Detective de Contornos: cv2.findContours()\n",
        "\n",
        "Ahora viene la parte más fascinante: encontrar automáticamente los bordes de nuestro objeto."
      ]
    },
    {
      "cell_type": "markdown",
      "metadata": {
        "id": "XPSbtMhTqn_S"
      },
      "source": [
        "### El Algoritmo de Detección\n",
        "\n",
        "**¿Cómo encuentra OpenCV los contornos?**\n",
        "\n",
        "1. **Análisis píxel por píxel:** Examina cada píxel y sus vecinos\n",
        "2. **Detección de cambios:** Busca transiciones de negro (0) a blanco (255)\n",
        "3. **Seguimiento de bordes:** Sigue la \"frontera\" entre colores\n",
        "4. **Algoritmo Suzuki-Abe:** Método específico para encontrar contornos jerárquicos\n",
        "\n",
        "**Los parámetros desglosados:**"
      ]
    },
    {
      "cell_type": "code",
      "execution_count": null,
      "metadata": {
        "colab": {
          "base_uri": "https://localhost:8080/"
        },
        "id": "gWPjs2SVqn_S",
        "outputId": "e8c7b1d3-4e4c-4586-d895-f4520e24581b"
      },
      "outputs": [
        {
          "output_type": "stream",
          "name": "stdout",
          "text": [
            "🔍 Analizando cv2.findContours() en detalle:\n",
            "\n",
            "📋 Sintaxis completa:\n",
            "   contornos, jerarquia = cv2.findContours(imagen, modo, método)\n",
            "\n",
            "🎯 Parámetros que vamos a usar:\n",
            "\n",
            "1️⃣ IMAGEN (entrada):\n",
            "   • Tipo requerido: Imagen binaria (solo 0s y 255s)\n",
            "   • Nuestra imagen: (200, 300), valores únicos: [  0 255]\n",
            "   • OK Perfecta para detección de contornos\n",
            "\n",
            "2️⃣ MODO DE RECUPERACIÓN (cv2.RETR_EXTERNAL):\n",
            "   • Qué hace: Solo encuentra contornos 'exteriores'\n",
            "   • Ignorará: Contornos dentro de otros contornos\n",
            "   • Ideal para: Objetos simples sin huecos\n",
            "   • Alternativas:\n",
            "     - RETR_LIST: Todos los contornos (sin jerarquía)\n",
            "     - RETR_TREE: Todos los contornos (con jerarquía completa)\n",
            "     - RETR_CCOMP: Contornos externos e internos\n",
            "\n",
            "3️⃣ MÉTODO DE APROXIMACIÓN (cv2.CHAIN_APPROX_SIMPLE):\n",
            "   • Qué hace: Comprime líneas rectas\n",
            "   • Ejemplo: En vez de guardar 100 puntos de una línea recta,\n",
            "             solo guarda el punto inicial y final\n",
            "   • Ventaja: Menos memoria, procesamiento más rápido\n",
            "   • Alternativa: CHAIN_APPROX_NONE (guarda todos los puntos)\n"
          ]
        }
      ],
      "source": [
        "print(\"🔍 Analizando cv2.findContours() en detalle:\")\n",
        "print(\"\\n📋 Sintaxis completa:\")\n",
        "print(\"   contornos, jerarquia = cv2.findContours(imagen, modo, método)\")\n",
        "print(\"\\n🎯 Parámetros que vamos a usar:\")\n",
        "\n",
        "# Explicación del primer parámetro\n",
        "print(\"\\n1️⃣ IMAGEN (entrada):\")\n",
        "print(f\"   • Tipo requerido: Imagen binaria (solo 0s y 255s)\")\n",
        "print(f\"   • Nuestra imagen: {imagen.shape}, valores únicos: {np.unique(imagen)}\")\n",
        "print(f\"   • OK Perfecta para detección de contornos\")\n",
        "\n",
        "# Explicación del modo de recuperación\n",
        "print(\"\\n2️⃣ MODO DE RECUPERACIÓN (cv2.RETR_EXTERNAL):\")\n",
        "print(\"   • Qué hace: Solo encuentra contornos 'exteriores'\")\n",
        "print(\"   • Ignorará: Contornos dentro de otros contornos\")\n",
        "print(\"   • Ideal para: Objetos simples sin huecos\")\n",
        "print(\"   • Alternativas:\")\n",
        "print(\"     - RETR_LIST: Todos los contornos (sin jerarquía)\")\n",
        "print(\"     - RETR_TREE: Todos los contornos (con jerarquía completa)\")\n",
        "print(\"     - RETR_CCOMP: Contornos externos e internos\")\n",
        "\n",
        "# Explicación del método de aproximación\n",
        "print(\"\\n3️⃣ MÉTODO DE APROXIMACIÓN (cv2.CHAIN_APPROX_SIMPLE):\")\n",
        "print(\"   • Qué hace: Comprime líneas rectas\")\n",
        "print(\"   • Ejemplo: En vez de guardar 100 puntos de una línea recta,\")\n",
        "print(\"             solo guarda el punto inicial y final\")\n",
        "print(\"   • Ventaja: Menos memoria, procesamiento más rápido\")\n",
        "print(\"   • Alternativa: CHAIN_APPROX_NONE (guarda todos los puntos)\")"
      ]
    },
    {
      "cell_type": "code",
      "execution_count": null,
      "metadata": {
        "colab": {
          "base_uri": "https://localhost:8080/"
        },
        "id": "CtTB6KDEqn_S",
        "outputId": "d8b8d23d-47e2-47c7-bd80-626d171c1857"
      },
      "outputs": [
        {
          "output_type": "stream",
          "name": "stdout",
          "text": [
            "Ejecutando la detección de contornos...\n",
            "Detección completada!\n",
            "\n",
            "Resultados del análisis:\n",
            "   Número de contornos encontrados: 1\n",
            "   Tipo de dato de 'contornos': <class 'tuple'>\n",
            "   Tipo de dato de 'jerarquia': <class 'numpy.ndarray'>\n",
            "\n",
            "Análisis del contorno encontrado:\n",
            "   Forma del contorno: (164, 1, 2)\n",
            "   Número de puntos: 164\n",
            "   Tipo de datos: int32\n",
            "\n",
            "Primeros 3 puntos del contorno:\n",
            "   Punto 1: (50, 50)\n",
            "   Punto 2: (50, 53)\n",
            "   Punto 3: (49, 54)\n",
            "\n",
            "El algoritmo encontró 164 puntos críticos\n",
            "   (puntos donde la dirección del contorno cambia)\n"
          ]
        }
      ],
      "source": [
        "# Momento de la detección!\n",
        "print(\"Ejecutando la detección de contornos...\")\n",
        "\n",
        "contornos, jerarquia = cv2.findContours(\n",
        "    imagen,                    # Nuestra imagen binaria\n",
        "    cv2.RETR_EXTERNAL,        # Solo contornos externos\n",
        "    cv2.CHAIN_APPROX_SIMPLE   # Aproximación simple\n",
        ")\n",
        "\n",
        "print(\"Detección completada!\")\n",
        "print(\"\\nResultados del análisis:\")\n",
        "print(f\"   Número de contornos encontrados: {len(contornos)}\")\n",
        "print(f\"   Tipo de dato de 'contornos': {type(contornos)}\")\n",
        "print(f\"   Tipo de dato de 'jerarquia': {type(jerarquia)}\")\n",
        "\n",
        "if len(contornos) > 0:\n",
        "    contorno_principal = contornos[0]\n",
        "    print(f\"\\nAnálisis del contorno encontrado:\")\n",
        "    print(f\"   Forma del contorno: {contorno_principal.shape}\")\n",
        "    print(f\"   Número de puntos: {len(contorno_principal)}\")\n",
        "    print(f\"   Tipo de datos: {contorno_principal.dtype}\")\n",
        "\n",
        "    # Mostramos algunos puntos del contorno\n",
        "    print(f\"\\nPrimeros 3 puntos del contorno:\")\n",
        "    for i in range(min(3, len(contorno_principal))):\n",
        "        punto = contorno_principal[i][0]  # [0] porque OpenCV usa formato [[x,y]]\n",
        "        print(f\"   Punto {i+1}: ({punto[0]}, {punto[1]})\")\n",
        "\n",
        "    print(f\"\\nEl algoritmo encontró {len(contorno_principal)} puntos críticos\")\n",
        "    print(f\"   (puntos donde la dirección del contorno cambia)\")\n",
        "else:\n",
        "    print(\"No se encontraron contornos\")"
      ]
    },
    {
      "cell_type": "markdown",
      "metadata": {
        "id": "C-TDsXxLqn_S"
      },
      "source": [
        "### 🧪 Experimento: Comparando Métodos de Aproximación\n",
        "\n",
        "Vamos a ver la diferencia entre `CHAIN_APPROX_SIMPLE` y `CHAIN_APPROX_NONE`:"
      ]
    },
    {
      "cell_type": "code",
      "execution_count": null,
      "metadata": {
        "colab": {
          "base_uri": "https://localhost:8080/"
        },
        "id": "gz0pB8N2qn_S",
        "outputId": "2b56891b-f429-4b99-ce4f-80057a1eba9b"
      },
      "outputs": [
        {
          "output_type": "stream",
          "name": "stdout",
          "text": [
            "🧪 Experimento: Comparando métodos de aproximación\n",
            "\n",
            "📊 Resultados de la comparación:\n",
            "   CHAIN_APPROX_SIMPLE: 164 puntos\n",
            "   CHAIN_APPROX_NONE:   440 puntos\n",
            "   Reducción: 62.7%\n",
            "\n",
            "💾 Uso de memoria:\n",
            "   SIMPLE: 1312 bytes\n",
            "   COMPLETO: 3520 bytes\n",
            "   Ahorro: 62.7%\n",
            "\n",
            "🎯 Conclusión: CHAIN_APPROX_SIMPLE es más eficiente\n",
            "   para formas con segmentos rectos como nuestro polígono\n"
          ]
        }
      ],
      "source": [
        "# Comparación experimental\n",
        "print(\"🧪 Experimento: Comparando métodos de aproximación\\n\")\n",
        "\n",
        "# Método 1: CHAIN_APPROX_SIMPLE (que ya usamos)\n",
        "contornos_simple, _ = cv2.findContours(imagen, cv2.RETR_EXTERNAL, cv2.CHAIN_APPROX_SIMPLE)\n",
        "\n",
        "# Método 2: CHAIN_APPROX_NONE (todos los puntos)\n",
        "contornos_completo, _ = cv2.findContours(imagen, cv2.RETR_EXTERNAL, cv2.CHAIN_APPROX_NONE)\n",
        "\n",
        "if len(contornos_simple) > 0 and len(contornos_completo) > 0:\n",
        "    puntos_simple = len(contornos_simple[0])\n",
        "    puntos_completo = len(contornos_completo[0])\n",
        "\n",
        "    print(f\"📊 Resultados de la comparación:\")\n",
        "    print(f\"   CHAIN_APPROX_SIMPLE: {puntos_simple} puntos\")\n",
        "    print(f\"   CHAIN_APPROX_NONE:   {puntos_completo} puntos\")\n",
        "    print(f\"   Reducción: {((puntos_completo - puntos_simple) / puntos_completo * 100):.1f}%\")\n",
        "\n",
        "    # Calculamos la eficiencia\n",
        "    bytes_simple = contornos_simple[0].nbytes\n",
        "    bytes_completo = contornos_completo[0].nbytes\n",
        "\n",
        "    print(f\"\\n💾 Uso de memoria:\")\n",
        "    print(f\"   SIMPLE: {bytes_simple} bytes\")\n",
        "    print(f\"   COMPLETO: {bytes_completo} bytes\")\n",
        "    print(f\"   Ahorro: {((bytes_completo - bytes_simple) / bytes_completo * 100):.1f}%\")\n",
        "\n",
        "    print(f\"\\n🎯 Conclusión: CHAIN_APPROX_SIMPLE es más eficiente\")\n",
        "    print(f\"   para formas con segmentos rectos como nuestro polígono\")\n",
        "else:\n",
        "    print(\"ERROR Error en la comparación\")"
      ]
    },
    {
      "cell_type": "markdown",
      "metadata": {
        "id": "TECQTeJ7qn_T"
      },
      "source": [
        "## 5. Midiendo como un Científico: Propiedades Geométricas\n",
        "\n",
        "Ahora vamos a extraer información cuantitativa de nuestro objeto detectado."
      ]
    },
    {
      "cell_type": "markdown",
      "metadata": {
        "id": "slRAB09Iqn_T"
      },
      "source": [
        "### 📐 Área: cv2.contourArea()\n",
        "\n",
        "**¿Cómo calcula OpenCV el área?**\n",
        "\n",
        "- **Fórmula de Green:** Convierte el problema de área en un cálculo de línea\n",
        "- **Teorema matemático:** `Área = ½|∑(x_i * y_{i+1} - x_{i+1} * y_i)|`\n",
        "- **Ventaja:** Muy preciso, funciona con polígonos irregulares\n",
        "- **Unidad:** Píxeles cuadrados"
      ]
    },
    {
      "cell_type": "code",
      "execution_count": null,
      "metadata": {
        "colab": {
          "base_uri": "https://localhost:8080/"
        },
        "id": "XX9TX7s5qn_T",
        "outputId": "00b9f0b3-6179-4f7b-dee0-1c21f1cf97b7"
      },
      "outputs": [
        {
          "output_type": "stream",
          "name": "stdout",
          "text": [
            "📐 Calculando área con cv2.contourArea()\n",
            "\n",
            "📊 Resultado:\n",
            "   Área calculada: 11235.00 píxeles cuadrados\n",
            "   Verificación (conteo manual): 11456 píxeles cuadrados\n",
            "   Diferencia: 221.00 píxeles cuadrados\n",
            "   ⚠️ Diferencia notable - investigar causa\n",
            "\n",
            "🔬 Análisis técnico:\n",
            "   • cv2.contourArea() usa matemática vectorial precisa\n",
            "   • El conteo manual cuenta píxeles discretos\n",
            "   • Pequeñas diferencias son normales en bordes\n"
          ]
        }
      ],
      "source": [
        "if len(contornos) > 0:\n",
        "    print(\"📐 Calculando área con cv2.contourArea()\")\n",
        "\n",
        "    # Cálculo del área\n",
        "    area_opencv = cv2.contourArea(contorno_principal)\n",
        "\n",
        "    print(f\"\\n📊 Resultado:\")\n",
        "    print(f\"   Área calculada: {area_opencv:.2f} píxeles cuadrados\")\n",
        "\n",
        "    # Verificación manual contando píxeles\n",
        "    area_manual = np.count_nonzero(imagen == 255)\n",
        "    print(f\"   Verificación (conteo manual): {area_manual} píxeles cuadrados\")\n",
        "\n",
        "    # Comparación\n",
        "    diferencia = abs(area_opencv - area_manual)\n",
        "    print(f\"   Diferencia: {diferencia:.2f} píxeles cuadrados\")\n",
        "\n",
        "    if diferencia < 1.0:\n",
        "        print(\"   OK Excelente concordancia entre métodos\")\n",
        "    else:\n",
        "        print(\"   ⚠️ Diferencia notable - investigar causa\")\n",
        "\n",
        "    print(f\"\\n🔬 Análisis técnico:\")\n",
        "    print(f\"   • cv2.contourArea() usa matemática vectorial precisa\")\n",
        "    print(f\"   • El conteo manual cuenta píxeles discretos\")\n",
        "    print(f\"   • Pequeñas diferencias son normales en bordes\")\n",
        "\n",
        "    area = area_opencv  # Usamos el valor de OpenCV para cálculos posteriores\n",
        "else:\n",
        "    print(\"ERROR No hay contornos para medir\")\n",
        "    area = 0"
      ]
    },
    {
      "cell_type": "markdown",
      "metadata": {
        "id": "im02Qatpqn_T"
      },
      "source": [
        "### 📏 Perímetro: cv2.arcLength()\n",
        "\n",
        "**¿Cómo se calcula la longitud del contorno?**\n",
        "\n",
        "- **Suma de distancias:** Entre puntos consecutivos del contorno\n",
        "- **Distancia euclidiana:** `d = √[(x₂-x₁)² + (y₂-y₁)²]`\n",
        "- **Parámetro closed=True:** Incluye la distancia del último al primer punto\n",
        "- **Unidad:** Píxeles lineales"
      ]
    },
    {
      "cell_type": "code",
      "execution_count": null,
      "metadata": {
        "colab": {
          "base_uri": "https://localhost:8080/"
        },
        "id": "QAk5-mj6qn_T",
        "outputId": "af6c0861-3e1b-4708-a1d7-022bd817e29e"
      },
      "outputs": [
        {
          "output_type": "stream",
          "name": "stdout",
          "text": [
            "📏 Calculando perímetro con cv2.arcLength()\n",
            "\n",
            "📊 Resultado:\n",
            "   Perímetro: 473.14 píxeles\n",
            "\n",
            "🔍 Desglose del parámetro 'closed':\n",
            "   Con closed=True:  473.14 píxeles\n",
            "   Con closed=False: 470.14 píxeles\n",
            "   Diferencia: 3.00 píxeles\n",
            "   (La diferencia es la distancia del último al primer punto)\n",
            "\n",
            "🧮 Verificación manual del perímetro:\n",
            "   Segmento 1: (50,50) → (50,53) = 3.00\n",
            "   Segmento 2: (50,53) → (49,54) = 1.41\n",
            "   Segmento 3: (49,54) → (49,60) = 6.00\n",
            "   ...\n",
            "   Perímetro manual total: 473.14\n",
            "   Diferencia con OpenCV: 0.000002\n",
            "   OK Prácticamente idénticos (diferencias por precisión numérica)\n"
          ]
        }
      ],
      "source": [
        "if len(contornos) > 0:\n",
        "    print(\"📏 Calculando perímetro con cv2.arcLength()\")\n",
        "\n",
        "    # Cálculo del perímetro\n",
        "    perimetro = cv2.arcLength(contorno_principal, True)  # True = contorno cerrado\n",
        "\n",
        "    print(f\"\\n📊 Resultado:\")\n",
        "    print(f\"   Perímetro: {perimetro:.2f} píxeles\")\n",
        "\n",
        "    print(f\"\\n🔍 Desglose del parámetro 'closed':\")\n",
        "    perimetro_abierto = cv2.arcLength(contorno_principal, False)  # False = contorno abierto\n",
        "    print(f\"   Con closed=True:  {perimetro:.2f} píxeles\")\n",
        "    print(f\"   Con closed=False: {perimetro_abierto:.2f} píxeles\")\n",
        "    print(f\"   Diferencia: {perimetro - perimetro_abierto:.2f} píxeles\")\n",
        "    print(f\"   (La diferencia es la distancia del último al primer punto)\")\n",
        "\n",
        "    # Cálculo manual para validar\n",
        "    print(f\"\\n🧮 Verificación manual del perímetro:\")\n",
        "    puntos_contorno = contorno_principal.reshape(-1, 2)  # Simplificar formato\n",
        "    perimetro_manual = 0\n",
        "\n",
        "    for i in range(len(puntos_contorno)):\n",
        "        p1 = puntos_contorno[i]\n",
        "        p2 = puntos_contorno[(i + 1) % len(puntos_contorno)]  # % para cerrar el contorno\n",
        "        distancia = np.sqrt((p2[0] - p1[0])**2 + (p2[1] - p1[1])**2)\n",
        "        perimetro_manual += distancia\n",
        "\n",
        "        if i < 3:  # Mostrar los primeros 3 cálculos\n",
        "            print(f\"   Segmento {i+1}: ({p1[0]},{p1[1]}) → ({p2[0]},{p2[1]}) = {distancia:.2f}\")\n",
        "\n",
        "    print(f\"   ...\")\n",
        "    print(f\"   Perímetro manual total: {perimetro_manual:.2f}\")\n",
        "    print(f\"   Diferencia con OpenCV: {abs(perimetro - perimetro_manual):.6f}\")\n",
        "    print(f\"   OK Prácticamente idénticos (diferencias por precisión numérica)\")\n",
        "\n",
        "else:\n",
        "    print(\"ERROR No hay contornos para medir\")\n",
        "    perimetro = 0"
      ]
    },
    {
      "cell_type": "markdown",
      "metadata": {
        "id": "n2knDe9-qn_T"
      },
      "source": [
        "### 🎯 Centro Geométrico: cv2.moments()\n",
        "\n",
        "**¿Qué son los momentos en geometría?**\n",
        "\n",
        "Los momentos son integrales que describen la distribución de masa de un objeto:\n",
        "\n",
        "- **m00:** Momento de orden cero (área total)\n",
        "- **m10:** Momento de primer orden en X\n",
        "- **m01:** Momento de primer orden en Y\n",
        "- **Centroide:** Centro de masa, calculado como (m10/m00, m01/m00)"
      ]
    },
    {
      "cell_type": "code",
      "execution_count": null,
      "metadata": {
        "colab": {
          "base_uri": "https://localhost:8080/"
        },
        "id": "XVoUbsiyqn_T",
        "outputId": "9e4c494d-dd0d-41a3-86d6-1c011b192a1e"
      },
      "outputs": [
        {
          "output_type": "stream",
          "name": "stdout",
          "text": [
            "🎯 Calculando centroide con cv2.moments()\n",
            "\n",
            "📊 Momentos calculados:\n",
            "   m00 (área): 11235.00\n",
            "   m10 (momento X): 1340730.00\n",
            "   m01 (momento Y): 1094905.83\n",
            "\n",
            "🔍 Verificación:\n",
            "   m00 debería ser igual al área: 11235.00 vs 11235.00\n",
            "   OK Concordancia perfecta\n",
            "\n",
            "🧮 Cálculo del centroide:\n",
            "   cx = m10/m00 = 1340730.0/11235.0 = 119.34\n",
            "   cy = m01/m00 = 1094905.8/11235.0 = 97.45\n",
            "   Centroide: (119.34, 97.45)\n",
            "   Centroide (entero): (119, 97)\n",
            "\n",
            "💡 Interpretación física:\n",
            "   Si el objeto fuera una lámina de metal uniforme,\n",
            "   se equilibraría perfectamente en este punto\n"
          ]
        }
      ],
      "source": [
        "if len(contornos) > 0:\n",
        "    print(\"🎯 Calculando centroide con cv2.moments()\")\n",
        "\n",
        "    # Cálculo de momentos\n",
        "    momentos = cv2.moments(contorno_principal)\n",
        "\n",
        "    print(f\"\\n📊 Momentos calculados:\")\n",
        "    print(f\"   m00 (área): {momentos['m00']:.2f}\")\n",
        "    print(f\"   m10 (momento X): {momentos['m10']:.2f}\")\n",
        "    print(f\"   m01 (momento Y): {momentos['m01']:.2f}\")\n",
        "\n",
        "    # Verificación del área\n",
        "    print(f\"\\n🔍 Verificación:\")\n",
        "    print(f\"   m00 debería ser igual al área: {momentos['m00']:.2f} vs {area:.2f}\")\n",
        "    if abs(momentos['m00'] - area) < 0.01:\n",
        "        print(f\"   OK Concordancia perfecta\")\n",
        "\n",
        "    # Cálculo del centroide\n",
        "    if momentos['m00'] != 0:\n",
        "        centroide_x = momentos['m10'] / momentos['m00']\n",
        "        centroide_y = momentos['m01'] / momentos['m00']\n",
        "\n",
        "        print(f\"\\n🧮 Cálculo del centroide:\")\n",
        "        print(f\"   cx = m10/m00 = {momentos['m10']:.1f}/{momentos['m00']:.1f} = {centroide_x:.2f}\")\n",
        "        print(f\"   cy = m01/m00 = {momentos['m01']:.1f}/{momentos['m00']:.1f} = {centroide_y:.2f}\")\n",
        "        print(f\"   Centroide: ({centroide_x:.2f}, {centroide_y:.2f})\")\n",
        "\n",
        "        # Para dibujar, necesitamos coordenadas enteras\n",
        "        centroide_x_int = int(round(centroide_x))\n",
        "        centroide_y_int = int(round(centroide_y))\n",
        "\n",
        "        print(f\"   Centroide (entero): ({centroide_x_int}, {centroide_y_int})\")\n",
        "\n",
        "        print(f\"\\n💡 Interpretación física:\")\n",
        "        print(f\"   Si el objeto fuera una lámina de metal uniforme,\")\n",
        "        print(f\"   se equilibraría perfectamente en este punto\")\n",
        "\n",
        "    else:\n",
        "        print(f\"ERROR No se puede calcular centroide (área = 0)\")\n",
        "        centroide_x_int = centroide_y_int = -1\n",
        "\n",
        "else:\n",
        "    print(\"ERROR No hay contornos para analizar\")\n",
        "    centroide_x_int = centroide_y_int = -1\n",
        "    momentos = None"
      ]
    },
    {
      "cell_type": "markdown",
      "metadata": {
        "id": "qDYHN3ydqn_T"
      },
      "source": [
        "### 🔘 Índices de Forma: Análisis Geométrico Avanzado\n",
        "\n",
        "Con área y perímetro podemos calcular índices que describen la forma del objeto:"
      ]
    },
    {
      "cell_type": "code",
      "execution_count": null,
      "metadata": {
        "colab": {
          "base_uri": "https://localhost:8080/"
        },
        "id": "hYySvd1Fqn_T",
        "outputId": "2209d8be-e74c-4582-a3ea-a96381448e55"
      },
      "outputs": [
        {
          "output_type": "stream",
          "name": "stdout",
          "text": [
            "🔘 Calculando índices de forma\n",
            "\n",
            "📊 Índices calculados:\n",
            "   Circularidad: 0.631\n",
            "   Compacidad: 19.93\n",
            "   Relación de aspecto: 1.59\n",
            "\n",
            "🔍 Interpretación:\n",
            "   • Circularidad = 1.0 → círculo perfecto\n",
            "   • Circularidad < 1.0 → forma irregular\n",
            "   • Nuestra forma: 0.631 (forma irregular)\n",
            "\n",
            "   • Aspecto = 1.0 → cuadrado/círculo\n",
            "   • Aspecto > 1.0 → más ancho que alto\n",
            "   • Aspecto < 1.0 → más alto que ancho\n",
            "   • Nuestra forma: 1.59 (más ancha)\n"
          ]
        }
      ],
      "source": [
        "if area > 0 and perimetro > 0:\n",
        "    print(\"🔘 Calculando índices de forma\")\n",
        "\n",
        "    # Circularidad (cuán parecido a un círculo)\n",
        "    circularidad = 4 * np.pi * area / (perimetro ** 2)\n",
        "\n",
        "    # Compacidad (otra medida de circularidad)\n",
        "    compacidad = perimetro ** 2 / area\n",
        "\n",
        "    # Relación de aspecto (usando bounding box)\n",
        "    x, y, w, h = cv2.boundingRect(contorno_principal)\n",
        "    aspecto = w / h\n",
        "\n",
        "    print(f\"\\n📊 Índices calculados:\")\n",
        "    print(f\"   Circularidad: {circularidad:.3f}\")\n",
        "    print(f\"   Compacidad: {compacidad:.2f}\")\n",
        "    print(f\"   Relación de aspecto: {aspecto:.2f}\")\n",
        "\n",
        "    print(f\"\\n🔍 Interpretación:\")\n",
        "    print(f\"   • Circularidad = 1.0 → círculo perfecto\")\n",
        "    print(f\"   • Circularidad < 1.0 → forma irregular\")\n",
        "    print(f\"   • Nuestra forma: {circularidad:.3f} ({'bastante circular' if circularidad > 0.7 else 'forma irregular'})\")\n",
        "\n",
        "    print(f\"\\n   • Aspecto = 1.0 → cuadrado/círculo\")\n",
        "    print(f\"   • Aspecto > 1.0 → más ancho que alto\")\n",
        "    print(f\"   • Aspecto < 1.0 → más alto que ancho\")\n",
        "    print(f\"   • Nuestra forma: {aspecto:.2f} ({'más ancha' if aspecto > 1.2 else 'más alta' if aspecto < 0.8 else 'proporcionada'})\")\n",
        "\n",
        "else:\n",
        "    print(\"ERROR No se pueden calcular índices de forma\")"
      ]
    },
    {
      "cell_type": "markdown",
      "metadata": {
        "id": "huLXhtFvqn_T"
      },
      "source": [
        "## 6. 🎨 Visualización Científica: Comunicando Resultados\n",
        "\n",
        "Como científicos de datos, necesitamos presentar nuestros hallazgos de manera clara y profesional."
      ]
    },
    {
      "cell_type": "markdown",
      "metadata": {
        "id": "Abaumo5Qqn_T"
      },
      "source": [
        "### 🖌️ Preparando la Visualización: cv2.drawContours()\n",
        "\n",
        "**¿Cómo funciona el dibujado de contornos?**\n",
        "\n",
        "- **cv2.drawContours()** modifica la imagen píxel por píxel\n",
        "- **Algoritmo de línea:** Usa el algoritmo de Bresenham para dibujar líneas suaves\n",
        "- **Colores en BGR:** OpenCV usa Blue-Green-Red (no RGB como otros sistemas)"
      ]
    },
    {
      "cell_type": "code",
      "execution_count": null,
      "metadata": {
        "colab": {
          "base_uri": "https://localhost:8080/"
        },
        "id": "lZ3Z2SXJqn_T",
        "outputId": "f6092f9f-09fd-4af6-cd00-207a0d5325ae"
      },
      "outputs": [
        {
          "output_type": "stream",
          "name": "stdout",
          "text": [
            "🎨 Preparando visualización científica\n",
            "\n",
            "🔄 Conversión de formato:\n",
            "   Original: (200, 300) (escala de grises)\n",
            "   Convertida: (200, 300, 3) (BGR color)\n",
            "   Canales: [Azul, Verde, Rojo]\n",
            "\n",
            "🖌️ Dibujando contorno:\n",
            "   Color usado: (0, 255, 0) (BGR)\n",
            "   Grosor: 2 píxeles\n",
            "   Contornos dibujados: 1\n",
            "\n",
            "🎯 Dibujando centroide:\n",
            "   Posición: (119, 97)\n",
            "   Color: (0, 0, 255) (BGR)\n",
            "   Radio: 5 píxeles\n",
            "   Etiqueta agregada\n",
            "\n",
            "OK Imagen de visualización preparada\n"
          ]
        }
      ],
      "source": [
        "# Preparar imagen para visualización\n",
        "print(\"🎨 Preparando visualización científica\")\n",
        "\n",
        "# Convertir de escala de grises a color (BGR)\n",
        "imagen_visualizacion = cv2.cvtColor(imagen, cv2.COLOR_GRAY2BGR)\n",
        "\n",
        "print(f\"\\n🔄 Conversión de formato:\")\n",
        "print(f\"   Original: {imagen.shape} (escala de grises)\")\n",
        "print(f\"   Convertida: {imagen_visualizacion.shape} (BGR color)\")\n",
        "print(f\"   Canales: [Azul, Verde, Rojo]\")\n",
        "\n",
        "if len(contornos) > 0:\n",
        "    # Dibujar el contorno\n",
        "    print(f\"\\n🖌️ Dibujando contorno:\")\n",
        "    color_contorno = (0, 255, 0)  # Verde en formato BGR\n",
        "    grosor = 2\n",
        "\n",
        "    cv2.drawContours(\n",
        "        imagen_visualizacion,    # Imagen destino (se modifica)\n",
        "        [contorno_principal],    # Lista de contornos\n",
        "        -1,                      # Índice (-1 = todos los contornos)\n",
        "        color_contorno,          # Color BGR\n",
        "        grosor                   # Grosor en píxeles\n",
        "    )\n",
        "\n",
        "    print(f\"   Color usado: {color_contorno} (BGR)\")\n",
        "    print(f\"   Grosor: {grosor} píxeles\")\n",
        "    print(f\"   Contornos dibujados: 1\")\n",
        "\n",
        "    # Dibujar el centroide\n",
        "    if centroide_x_int != -1 and centroide_y_int != -1:\n",
        "        print(f\"\\n🎯 Dibujando centroide:\")\n",
        "        color_centroide = (0, 0, 255)  # Rojo en formato BGR\n",
        "        radio = 5\n",
        "\n",
        "        cv2.circle(\n",
        "            imagen_visualizacion,           # Imagen destino\n",
        "            (centroide_x_int, centroide_y_int),  # Centro del círculo\n",
        "            radio,                          # Radio\n",
        "            color_centroide,               # Color BGR\n",
        "            -1                             # Grosor (-1 = relleno)\n",
        "        )\n",
        "\n",
        "        print(f\"   Posición: ({centroide_x_int}, {centroide_y_int})\")\n",
        "        print(f\"   Color: {color_centroide} (BGR)\")\n",
        "        print(f\"   Radio: {radio} píxeles\")\n",
        "\n",
        "        # Agregar etiqueta de texto\n",
        "        cv2.putText(\n",
        "            imagen_visualizacion,\n",
        "            'Centroide',\n",
        "            (centroide_x_int + 10, centroide_y_int - 10),\n",
        "            cv2.FONT_HERSHEY_SIMPLEX,\n",
        "            0.5,\n",
        "            color_centroide,\n",
        "            1\n",
        "        )\n",
        "\n",
        "        print(f\"   Etiqueta agregada\")\n",
        "\n",
        "else:\n",
        "    print(\"ERROR No hay contornos para dibujar\")\n",
        "\n",
        "print(f\"\\nOK Imagen de visualización preparada\")"
      ]
    },
    {
      "cell_type": "markdown",
      "metadata": {
        "id": "6A1VVx8xqn_X"
      },
      "source": [
        "### 📊 Presentación de Resultados\n",
        "\n",
        "Ahora vamos a crear una presentación profesional de nuestros hallazgos:"
      ]
    },
    {
      "cell_type": "code",
      "execution_count": null,
      "metadata": {
        "colab": {
          "base_uri": "https://localhost:8080/",
          "height": 888
        },
        "id": "ClSL5oTHqn_X",
        "outputId": "6301873f-8c09-42e7-bd5d-c0306a7ac126"
      },
      "outputs": [
        {
          "output_type": "display_data",
          "data": {
            "text/plain": [
              "<Figure size 1500x600 with 2 Axes>"
            ],
            "image/png": "[encoded data removed]"
          },
          "metadata": {}
        },
        {
          "output_type": "stream",
          "name": "stdout",
          "text": [
            "============================================================\n",
            "           REPORTE DE ANÁLISIS GEOMÉTRICO\n",
            "============================================================\n",
            "📊 PROPIEDADES BÁSICAS:\n",
            "   • Área: 11235.00 píxeles²\n",
            "   • Perímetro: 473.14 píxeles\n",
            "   • Centroide: (119.34, 97.45)\n",
            "\n",
            "🔍 ÍNDICES DE FORMA:\n",
            "   • Circularidad: 0.631\n",
            "   • Compacidad: 19.93\n",
            "   • Relación de aspecto: 1.59\n",
            "\n",
            "🔧 DETALLES TÉCNICOS:\n",
            "   • Puntos del contorno: 164\n",
            "   • Método de aproximación: CHAIN_APPROX_SIMPLE\n",
            "   • Precisión del área: ±0.5 píxeles²\n",
            "   • Precisión del perímetro: ±0.1 píxeles\n",
            "============================================================\n",
            "📅 Análisis completado exitosamente\n",
            "🔬 Algoritmos utilizados: Suzuki-Abe, Green's theorem, Bresenham\n"
          ]
        }
      ],
      "source": [
        "# Crear figura con múltiples subplots\n",
        "fig, axes = plt.subplots(1, 2, figsize=(15, 6))\n",
        "\n",
        "# Subplot 1: Imagen original\n",
        "axes[0].imshow(imagen, cmap='gray')\n",
        "axes[0].set_title('Imagen Original\\n(Entrada del algoritmo)', fontsize=12, fontweight='bold')\n",
        "axes[0].axis('off')\n",
        "\n",
        "# Subplot 2: Imagen con análisis\n",
        "# Convertir BGR a RGB para matplotlib\n",
        "imagen_rgb = cv2.cvtColor(imagen_visualizacion, cv2.COLOR_BGR2RGB)\n",
        "axes[1].imshow(imagen_rgb)\n",
        "axes[1].set_title('Análisis Completado\\n(Contorno verde, Centroide rojo)', fontsize=12, fontweight='bold')\n",
        "axes[1].axis('off')\n",
        "\n",
        "plt.tight_layout()\n",
        "plt.show()\n",
        "\n",
        "# Reporte cuantitativo\n",
        "print(\"=\"*60)\n",
        "print(\"           REPORTE DE ANÁLISIS GEOMÉTRICO\")\n",
        "print(\"=\"*60)\n",
        "\n",
        "if len(contornos) > 0:\n",
        "    print(f\"📊 PROPIEDADES BÁSICAS:\")\n",
        "    print(f\"   • Área: {area:.2f} píxeles²\")\n",
        "    print(f\"   • Perímetro: {perimetro:.2f} píxeles\")\n",
        "    if centroide_x_int != -1:\n",
        "        print(f\"   • Centroide: ({centroide_x:.2f}, {centroide_y:.2f})\")\n",
        "\n",
        "    print(f\"\\n🔍 ÍNDICES DE FORMA:\")\n",
        "    if 'circularidad' in locals():\n",
        "        print(f\"   • Circularidad: {circularidad:.3f}\")\n",
        "        print(f\"   • Compacidad: {compacidad:.2f}\")\n",
        "        print(f\"   • Relación de aspecto: {aspecto:.2f}\")\n",
        "\n",
        "    print(f\"\\n🔧 DETALLES TÉCNICOS:\")\n",
        "    print(f\"   • Puntos del contorno: {len(contorno_principal)}\")\n",
        "    print(f\"   • Método de aproximación: CHAIN_APPROX_SIMPLE\")\n",
        "    print(f\"   • Precisión del área: ±0.5 píxeles²\")\n",
        "    print(f\"   • Precisión del perímetro: ±0.1 píxeles\")\n",
        "\n",
        "else:\n",
        "    print(\"ERROR NO SE DETECTARON OBJETOS\")\n",
        "    print(\"   Posibles causas:\")\n",
        "    print(\"   • Imagen no binaria\")\n",
        "    print(\"   • Objetos muy pequeños\")\n",
        "    print(\"   • Contraste insuficiente\")\n",
        "\n",
        "print(\"=\"*60)\n",
        "print(f\"📅 Análisis completado exitosamente\")\n",
        "print(f\"🔬 Algoritmos utilizados: Suzuki-Abe, Green's theorem, Bresenham\")"
      ]
    },
    {
      "cell_type": "markdown",
      "metadata": {
        "id": "ac8e_9zqqn_X"
      },
      "source": [
        "## 7. Laboratorio Experimental: Ejercicios Guiados\n",
        "\n",
        "Ahora que entendemos la teoría, vamos a experimentar con diferentes parámetros y configuraciones."
      ]
    },
    {
      "cell_type": "markdown",
      "metadata": {
        "id": "ojAPBJ8qqn_X"
      },
      "source": [
        "### Experimento 1: Comparando Modos de Recuperación\n",
        "\n",
        "Vamos a crear un objeto con un \"hueco\" y ver cómo diferentes modos afectan la detección:"
      ]
    },
    {
      "cell_type": "code",
      "execution_count": null,
      "metadata": {
        "colab": {
          "base_uri": "https://localhost:8080/",
          "height": 833
        },
        "id": "qz8TOmEBqn_X",
        "outputId": "0be3a228-c35c-4fb9-ccc9-f1bff80e1b34"
      },
      "outputs": [
        {
          "output_type": "stream",
          "name": "stdout",
          "text": [
            "Experimento 1: Objeto con hueco interno\n",
            "Imagen con hueco creada\n",
            "\n",
            "Resultados del experimento:\n",
            "   RETR_EXTERNAL:\n",
            "     Contornos detectados: 1\n",
            "     Jerarquía: (1, 1, 4)\n",
            "   RETR_LIST:\n",
            "     Contornos detectados: 2\n",
            "     Jerarquía: (1, 2, 4)\n",
            "   RETR_TREE:\n",
            "     Contornos detectados: 2\n",
            "     Jerarquía: (1, 2, 4)\n",
            "\n",
            "Interpretación:\n",
            "   • RETR_EXTERNAL: Solo el contorno exterior\n",
            "   • RETR_LIST: Todos los contornos sin relación\n",
            "   • RETR_TREE: Todos con información jerárquica\n"
          ]
        },
        {
          "output_type": "display_data",
          "data": {
            "text/plain": [
              "<Figure size 1000x600 with 1 Axes>"
            ],
            "image/png": "[encoded data removed]"
          },
          "metadata": {}
        }
      ],
      "source": [
        "print(\"Experimento 1: Objeto con hueco interno\")\n",
        "\n",
        "# Crear imagen con objeto y hueco\n",
        "imagen_hueco = np.zeros((200, 200), dtype=np.uint8)\n",
        "\n",
        "# Dibujar rectángulo exterior (blanco)\n",
        "cv2.rectangle(imagen_hueco, (50, 50), (150, 150), 255, -1)\n",
        "\n",
        "# Dibujar rectángulo interior (negro = hueco)\n",
        "cv2.rectangle(imagen_hueco, (80, 80), (120, 120), 0, -1)\n",
        "\n",
        "print(\"Imagen con hueco creada\")\n",
        "\n",
        "# Probar diferentes modos\n",
        "modos = {\n",
        "    'RETR_EXTERNAL': cv2.RETR_EXTERNAL,\n",
        "    'RETR_LIST': cv2.RETR_LIST,\n",
        "    'RETR_TREE': cv2.RETR_TREE\n",
        "}\n",
        "\n",
        "resultados = {}\n",
        "\n",
        "for nombre, modo in modos.items():\n",
        "    contornos_modo, jerarquia_modo = cv2.findContours(imagen_hueco, modo, cv2.CHAIN_APPROX_SIMPLE)\n",
        "    resultados[nombre] = {\n",
        "        'contornos': len(contornos_modo),\n",
        "        'jerarquia': jerarquia_modo.shape if jerarquia_modo is not None else 'None'\n",
        "    }\n",
        "\n",
        "print(f\"\\nResultados del experimento:\")\n",
        "for modo, resultado in resultados.items():\n",
        "    print(f\"   {modo}:\")\n",
        "    print(f\"     Contornos detectados: {resultado['contornos']}\")\n",
        "    print(f\"     Jerarquía: {resultado['jerarquia']}\")\n",
        "\n",
        "print(f\"\\nInterpretación:\")\n",
        "print(f\"   • RETR_EXTERNAL: Solo el contorno exterior\")\n",
        "print(f\"   • RETR_LIST: Todos los contornos sin relación\")\n",
        "print(f\"   • RETR_TREE: Todos con información jerárquica\")\n",
        "\n",
        "# Visualizar\n",
        "plt.imshow(imagen_hueco, cmap='gray')\n",
        "plt.title('Objeto con Hueco Internal')\n",
        "plt.axis('off')\n",
        "plt.show()"
      ]
    },
    {
      "cell_type": "markdown",
      "metadata": {
        "id": "ta5dJDylqn_X"
      },
      "source": [
        "### 🎯 Experimento 2: Tu Turno - Círculo Investigativo\n",
        "\n",
        "Ahora creá un círculo y aplicá todo lo que aprendimos:"
      ]
    },
    {
      "cell_type": "code",
      "execution_count": null,
      "metadata": {
        "colab": {
          "base_uri": "https://localhost:8080/",
          "height": 972
        },
        "id": "0kATX2KSqn_X",
        "outputId": "2ffe5cbb-fc86-492d-abc9-65b14cb7368b"
      },
      "outputs": [
        {
          "output_type": "stream",
          "name": "stdout",
          "text": [
            "🎯 Tu experimento: Analizando un círculo\n",
            "\n",
            "📝 Tareas a completar:\n",
            "   1. Crear imagen con círculo\n",
            "   2. Detectar contornos\n",
            "   3. Calcular propiedades\n",
            "   4. Analizar circularidad (debería ser ~1.0)\n",
            "\n",
            "🔍 Información del círculo teórico:\n",
            "   Radio: 50 píxeles\n",
            "   Área teórica: 7853.98 píxeles²\n",
            "   Perímetro teórico: 314.16 píxeles\n",
            "\n",
            "📊 Resultados experimentales:\n",
            "   Área medida: 7704.00 píxeles²\n",
            "   Perímetro medido: 329.71 píxeles\n",
            "   Circularidad: 0.891\n",
            "\n",
            "🔬 Comparación teórico vs experimental:\n",
            "   Error en área: 1.9%\n",
            "   Error en perímetro: 4.9%\n",
            "   Circularidad del círculo: 0.891\n",
            "   🤔 Interesante, menos circular de lo esperado\n",
            "      (debido a la discretización en píxeles)\n"
          ]
        },
        {
          "output_type": "display_data",
          "data": {
            "text/plain": [
              "<Figure size 1000x600 with 1 Axes>"
            ],
            "image/png": "[encoded data removed]"
          },
          "metadata": {}
        },
        {
          "output_type": "stream",
          "name": "stdout",
          "text": [
            "\n",
            "🎉 ¡Experimento completado! Comparaste teoría con práctica\n"
          ]
        }
      ],
      "source": [
        "print(\"🎯 Tu experimento: Analizando un círculo\")\n",
        "print(\"\\n📝 Tareas a completar:\")\n",
        "print(\"   1. Crear imagen con círculo\")\n",
        "print(\"   2. Detectar contornos\")\n",
        "print(\"   3. Calcular propiedades\")\n",
        "print(\"   4. Analizar circularidad (debería ser ~1.0)\")\n",
        "\n",
        "# Paso 1: Crear imagen con círculo\n",
        "imagen_circulo = np.zeros((200, 200), dtype=np.uint8)\n",
        "cv2.circle(imagen_circulo, (100, 100), 50, 255, -1)  # Centro, radio, color, relleno\n",
        "\n",
        "print(\"\\n🔍 Información del círculo teórico:\")\n",
        "radio_teorico = 50\n",
        "area_teorica = np.pi * radio_teorico**2\n",
        "perimetro_teorico = 2 * np.pi * radio_teorico\n",
        "print(f\"   Radio: {radio_teorico} píxeles\")\n",
        "print(f\"   Área teórica: {area_teorica:.2f} píxeles²\")\n",
        "print(f\"   Perímetro teórico: {perimetro_teorico:.2f} píxeles\")\n",
        "\n",
        "# ESPACIO PARA TU CÓDIGO:\n",
        "# Completá las siguientes líneas usando lo que aprendiste:\n",
        "\n",
        "# Detectar contornos\n",
        "contornos_circulo, _ = cv2.findContours(imagen_circulo, cv2.RETR_EXTERNAL, cv2.CHAIN_APPROX_SIMPLE)\n",
        "\n",
        "if len(contornos_circulo) > 0:\n",
        "    contorno_circulo = contornos_circulo[0]\n",
        "\n",
        "    # Calcular propiedades\n",
        "    area_medida = cv2.contourArea(contorno_circulo)\n",
        "    perimetro_medido = cv2.arcLength(contorno_circulo, True)\n",
        "    circularidad_medida = 4 * np.pi * area_medida / (perimetro_medido ** 2)\n",
        "\n",
        "    print(f\"\\n📊 Resultados experimentales:\")\n",
        "    print(f\"   Área medida: {area_medida:.2f} píxeles²\")\n",
        "    print(f\"   Perímetro medido: {perimetro_medido:.2f} píxeles\")\n",
        "    print(f\"   Circularidad: {circularidad_medida:.3f}\")\n",
        "\n",
        "    print(f\"\\n🔬 Comparación teórico vs experimental:\")\n",
        "    error_area = abs(area_teorica - area_medida) / area_teorica * 100\n",
        "    error_perimetro = abs(perimetro_teorico - perimetro_medido) / perimetro_teorico * 100\n",
        "\n",
        "    print(f\"   Error en área: {error_area:.1f}%\")\n",
        "    print(f\"   Error en perímetro: {error_perimetro:.1f}%\")\n",
        "    print(f\"   Circularidad del círculo: {circularidad_medida:.3f}\")\n",
        "\n",
        "    if circularidad_medida > 0.95:\n",
        "        print(f\"   OK Excelente! Muy circular (como esperábamos)\")\n",
        "    else:\n",
        "        print(f\"   🤔 Interesante, menos circular de lo esperado\")\n",
        "        print(f\"      (debido a la discretización en píxeles)\")\n",
        "\n",
        "plt.imshow(imagen_circulo, cmap='gray')\n",
        "plt.title('Tu Círculo Experimental')\n",
        "plt.axis('off')\n",
        "plt.show()\n",
        "\n",
        "print(\"\\n🎉 ¡Experimento completado! Comparaste teoría con práctica\")"
      ]
    },
    {
      "cell_type": "markdown",
      "metadata": {
        "id": "xEo2VPUdqn_Y"
      },
      "source": [
        "## 8. 🚀 Aplicaciones del Mundo Real\n",
        "\n",
        "Ahora que dominás la técnica, veamos cómo se aplica en la industria:"
      ]
    },
    {
      "cell_type": "markdown",
      "metadata": {
        "id": "g8zGGHXSqn_Y"
      },
      "source": [
        "### 🏭 Casos de Uso Industriales\n",
        "\n",
        "**Control de Calidad en Manufactura:**\n",
        "- **Problema:** Verificar que piezas tengan el tamaño correcto\n",
        "- **Solución:** Usar área y perímetro como criterios de aceptación\n",
        "- **Ventaja:** Automatización 24/7, precisión constante\n",
        "\n",
        "**Análisis Médico:**\n",
        "- **Problema:** Medir células o tumores en imágenes microscópicas\n",
        "- **Solución:** Contornos para segmentar y medir objetos biológicos\n",
        "- **Ventaja:** Cuantificación objetiva para diagnósticos\n",
        "\n",
        "**Agricultura de Precisión:**\n",
        "- **Problema:** Contar y clasificar frutas por tamaño\n",
        "- **Solución:** Detección de contornos en imágenes de drones\n",
        "- **Ventaja:** Estimación de rendimiento automatizada"
      ]
    },
    {
      "cell_type": "code",
      "execution_count": null,
      "metadata": {
        "colab": {
          "base_uri": "https://localhost:8080/"
        },
        "id": "S7hSr3ajqn_Y",
        "outputId": "ce02913d-e0ee-440c-d501-fc0e1e6c83dc"
      },
      "outputs": [
        {
          "output_type": "stream",
          "name": "stdout",
          "text": [
            "🏭 Simulación: Control de Calidad Automatizado\n",
            "\n",
            "📋 Especificaciones del producto:\n",
            "   Área objetivo: 7500 píxeles²\n",
            "   Tolerancia: ±10.0%\n",
            "   Rango aceptable: 6750 - 8250 píxeles²\n",
            "\n",
            "🔍 Evaluando pieza actual:\n",
            "   Área medida: 11235.00 píxeles²\n",
            "   Resultado: ERROR RECHAZADA\n",
            "   Acción: Pieza muy grande - revisar proceso\n",
            "   Desviación: +49.8%\n",
            "\n",
            "💡 En una línea de producción real:\n",
            "   • Este análisis tomaría <1 segundo por pieza\n",
            "   • Precisión típica: ±0.1mm en mediciones físicas\n",
            "   • Capacidad: miles de piezas por hora\n"
          ]
        }
      ],
      "source": [
        "# Simulación de control de calidad\n",
        "print(\"🏭 Simulación: Control de Calidad Automatizado\")\n",
        "print(\"\\n📋 Especificaciones del producto:\")\n",
        "area_objetivo = 7500  # píxeles²\n",
        "tolerancia = 0.1      # ±10%\n",
        "\n",
        "area_min = area_objetivo * (1 - tolerancia)\n",
        "area_max = area_objetivo * (1 + tolerancia)\n",
        "\n",
        "print(f\"   Área objetivo: {area_objetivo} píxeles²\")\n",
        "print(f\"   Tolerancia: ±{tolerancia*100}%\")\n",
        "print(f\"   Rango aceptable: {area_min:.0f} - {area_max:.0f} píxeles²\")\n",
        "\n",
        "# Evaluar nuestro objeto\n",
        "if area > 0:\n",
        "    print(f\"\\n🔍 Evaluando pieza actual:\")\n",
        "    print(f\"   Área medida: {area:.2f} píxeles²\")\n",
        "\n",
        "    if area_min <= area <= area_max:\n",
        "        resultado = \"OK APROBADA\"\n",
        "        accion = \"Enviar a empaque\"\n",
        "    else:\n",
        "        resultado = \"ERROR RECHAZADA\"\n",
        "        if area < area_min:\n",
        "            accion = \"Pieza muy pequeña - revisar proceso\"\n",
        "        else:\n",
        "            accion = \"Pieza muy grande - revisar proceso\"\n",
        "\n",
        "    print(f\"   Resultado: {resultado}\")\n",
        "    print(f\"   Acción: {accion}\")\n",
        "\n",
        "    # Estadísticas\n",
        "    desviacion = (area - area_objetivo) / area_objetivo * 100\n",
        "    print(f\"   Desviación: {desviacion:+.1f}%\")\n",
        "\n",
        "print(f\"\\n💡 En una línea de producción real:\")\n",
        "print(f\"   • Este análisis tomaría <1 segundo por pieza\")\n",
        "print(f\"   • Precisión típica: ±0.1mm en mediciones físicas\")\n",
        "print(f\"   • Capacidad: miles de piezas por hora\")"
      ]
    },
    {
      "cell_type": "markdown",
      "metadata": {
        "id": "qjKYpzlsqn_Y"
      },
      "source": [
        "## 9. Síntesis y Reflexiones\n",
        "\n",
        "### Lo Que Aprendimos (Caja Abierta)\n",
        "\n",
        "**Módulos y Funciones:**\n",
        "- **OpenCV:** Especialista en visión, optimizado en C++\n",
        "- **NumPy:** Matemático de matrices, memoria eficiente\n",
        "- **Matplotlib:** Artista visualizador, interpreta números como colores\n",
        "\n",
        "**Algoritmos Internos:**\n",
        "- **Suzuki-Abe:** Para detección jerárquica de contornos\n",
        "- **Green's Theorem:** Para cálculo preciso de áreas\n",
        "- **Bresenham:** Para dibujado suave de líneas\n",
        "\n",
        "**Parámetros Críticos:**\n",
        "- **dtype=uint8:** Eficiencia vs precisión en imágenes\n",
        "- **RETR_EXTERNAL vs RETR_TREE:** Estrategias de búsqueda\n",
        "- **CHAIN_APPROX_SIMPLE:** Compresión inteligente de datos"
      ]
    },
    {
      "cell_type": "code",
      "execution_count": null,
      "metadata": {
        "colab": {
          "base_uri": "https://localhost:8080/"
        },
        "id": "4snH17NHqn_Y",
        "outputId": "69d3d9bc-cc8a-42d0-b26a-f2bf261ebe19"
      },
      "outputs": [
        {
          "output_type": "stream",
          "name": "stdout",
          "text": [
            "Evaluación de Competencias Adquiridas\n",
            "\n",
            "Competencias Técnicas:\n",
            "   • Comprensión de algoritmos de contornos\n",
            "   • Manejo de parámetros y sus efectos\n",
            "   • Análisis cuantitativo de formas\n",
            "   • Validación experimental de resultados\n",
            "\n",
            "Competencias de Ciencia de Datos:\n",
            "   • Extracción de características numéricas\n",
            "   • Verificación de calidad de datos\n",
            "   • Visualización científica\n",
            "   • Interpretación de resultados\n",
            "\n",
            "Pensamiento Crítico:\n",
            "   • Comparación teoría vs práctica\n",
            "   • Evaluación de precisión y errores\n",
            "   • Selección de métodos apropiados\n",
            "   • Conexión con aplicaciones reales\n",
            "\n",
            "Próximos Desafíos:\n",
            "   • Imágenes con múltiples objetos\n",
            "   • Formas más complejas e irregulares\n",
            "   • Combinación con machine learning\n",
            "   • Procesamiento en tiempo real\n",
            "\n",
            "Felicitaciones! Abriste exitosamente la caja negra\n",
            "    de la detección de contornos. Ahora entendés\n",
            "    tanto el QUÉ como el CÓMO de la visión por computadora.\n"
          ]
        }
      ],
      "source": [
        "print(\"Evaluación de Competencias Adquiridas\")\n",
        "print(\"\\nCompetencias Técnicas:\")\n",
        "print(\"   • Comprensión de algoritmos de contornos\")\n",
        "print(\"   • Manejo de parámetros y sus efectos\")\n",
        "print(\"   • Análisis cuantitativo de formas\")\n",
        "print(\"   • Validación experimental de resultados\")\n",
        "\n",
        "print(\"\\nCompetencias de Ciencia de Datos:\")\n",
        "print(\"   • Extracción de características numéricas\")\n",
        "print(\"   • Verificación de calidad de datos\")\n",
        "print(\"   • Visualización científica\")\n",
        "print(\"   • Interpretación de resultados\")\n",
        "\n",
        "print(\"\\nPensamiento Crítico:\")\n",
        "print(\"   • Comparación teoría vs práctica\")\n",
        "print(\"   • Evaluación de precisión y errores\")\n",
        "print(\"   • Selección de métodos apropiados\")\n",
        "print(\"   • Conexión con aplicaciones reales\")\n",
        "\n",
        "print(\"\\nPróximos Desafíos:\")\n",
        "print(\"   • Imágenes con múltiples objetos\")\n",
        "print(\"   • Formas más complejas e irregulares\")\n",
        "print(\"   • Combinación con machine learning\")\n",
        "print(\"   • Procesamiento en tiempo real\")\n",
        "\n",
        "print(\"\\nFelicitaciones! Abriste exitosamente la caja negra\")\n",
        "print(\"    de la detección de contornos. Ahora entendés\")\n",
        "print(\"    tanto el QUÉ como el CÓMO de la visión por computadora.\")"
      ]
    }
  ],
  "metadata": {
    "kernelspec": {
      "display_name": "Python 3",
      "language": "python",
      "name": "python3"
    },
    "language_info": {
      "codemirror_mode": {
        "name": "ipython",
        "version": 3
      },
      "file_extension": ".py",
      "mimetype": "text/x-python",
      "name": "python",
      "nbconvert_exporter": "python",
      "pygments_lexer": "ipython3",
      "version": "3.8.5"
    },
    "colab": {
      "provenance": []
    }
  },
  "nbformat": 4,
  "nbformat_minor": 0
}
{
  "nbformat": 4,
  "nbformat_minor": 0,
  "metadata": {
    "colab": {
      "provenance": []
    },
    "kernelspec": {
      "name": "python3",
      "display_name": "Python 3"
    },
    "language_info": {
      "name": "python"
    }
  },
  "cells": [
    {
      "cell_type": "markdown",
      "source": [
        "# 1. ¿Qué es una imagen digital?"
      ],
      "metadata": {
        "id": "zcKTGo_fZO9E"
      }
    },
    {
      "cell_type": "code",
      "source": [
        "# Una imagen digital está compuesta por pequeños cuadrados llamados píxeles.\n",
        "# Cada píxel tiene un color, y la combinación de todos los colores forma la imagen completa.\n",
        "# Podemos pensar en una imagen como una tabla de números, donde cada número representa el color de un píxel."
      ],
      "metadata": {
        "id": "oCTUpHovZH76"
      },
      "execution_count": null,
      "outputs": []
    },
    {
      "cell_type": "code",
      "source": [
        "import cv2\n",
        "import numpy as np\n",
        "import matplotlib.pyplot as plt"
      ],
      "metadata": {
        "id": "1dvjqSYQZEzT"
      },
      "execution_count": null,
      "outputs": []
    },
    {
      "cell_type": "markdown",
      "source": [
        "# 2. Operaciones básicas con imágenes"
      ],
      "metadata": {
        "id": "187q6IjLZNXW"
      }
    },
    {
      "cell_type": "code",
      "source": [
        "!wget = 'https://www.discoverboating.com/sites/default/files/small-boats_1.jpg'"
      ],
      "metadata": {
        "id": "XOhoumofZr_F"
      },
      "execution_count": null,
      "outputs": []
    },
    {
      "cell_type": "code",
      "source": [
        "# Cargar una imagen (asegúrate de que 'imagen.jpg' esté en la misma carpeta que este Colab, o subila)\n",
        "imagen = cv2.imread('/content/small-boats_1.jpg')\n",
        "imagen = cv2.cvtColor(imagen, cv2.COLOR_BGR2RGB)  # Convertimos a RGB para matplotlib"
      ],
      "metadata": {
        "id": "k3K02pPQZUAZ"
      },
      "execution_count": null,
      "outputs": []
    },
    {
      "cell_type": "code",
      "source": [
        "plt.imshow(imagen)\n",
        "plt.show()"
      ],
      "metadata": {
        "id": "jTt7el1OaTw3"
      },
      "execution_count": null,
      "outputs": []
    },
    {
      "cell_type": "code",
      "source": [
        "# Recortar la imagen\n",
        "imagen_recortada = imagen[500:680, 180:380]  # Recortamos una porción de la imagen"
      ],
      "metadata": {
        "id": "-BXVDAcsaL88"
      },
      "execution_count": null,
      "outputs": []
    },
    {
      "cell_type": "code",
      "source": [
        "plt.imshow(imagen_recortada)\n",
        "plt.show()"
      ],
      "metadata": {
        "id": "wnh1SLiXaN-b"
      },
      "execution_count": null,
      "outputs": []
    },
    {
      "cell_type": "code",
      "source": [
        "# Redimensionar la imagen\n",
        "imagen_redimensionada = cv2.resize(imagen_recortada, (1200, 1100))  # Cambiamos el tamaño"
      ],
      "metadata": {
        "id": "lPDCrHcGbojW"
      },
      "execution_count": null,
      "outputs": []
    },
    {
      "cell_type": "code",
      "source": [
        "plt.imshow(imagen_redimensionada)\n",
        "plt.show()"
      ],
      "metadata": {
        "id": "02lq6TsIbpue"
      },
      "execution_count": null,
      "outputs": []
    },
    {
      "cell_type": "code",
      "source": [
        "(alto, ancho) = imagen.shape[:2] # Obtener las dimensiones de la imagen (alto, ancho)\n",
        "centro = (ancho / 2, alto / 2) # Calcular el centro de la imagen\n",
        "# Obtener la matriz de rotación para rotar 45 grados alrededor del centro con un factor de escala de 0.5\n",
        "matriz_rotacion = cv2.getRotationMatrix2D(centro, 45, 0.5)\n",
        "# Aplicar la transformación afín (rotación) a la imagen recortada\n",
        "imagen_rotada = cv2.warpAffine(imagen_recortada, matriz_rotacion, (ancho, alto))"
      ],
      "metadata": {
        "id": "LQwLnTH-cLtB"
      },
      "execution_count": null,
      "outputs": []
    },
    {
      "cell_type": "code",
      "source": [
        "plt.imshow(imagen_rotada)\n",
        "plt.show()"
      ],
      "metadata": {
        "id": "lIC2F5o6cQ7c"
      },
      "execution_count": null,
      "outputs": []
    },
    {
      "cell_type": "code",
      "source": [
        "# Voltear la imagen\n",
        "imagen_volteada_horizontal = cv2.flip(imagen_recortada, 1)  # Voltear horizontalmente (1)\n",
        "imagen_volteada_vertical = cv2.flip(imagen_recortada, 0)  # Voltear verticalmente (0)\n",
        "imagen_volteada_ambos = cv2.flip(imagen_recortada, -1) # Voltear en ambos sentidos (-1)"
      ],
      "metadata": {
        "id": "Ew9YFBrYccoL"
      },
      "execution_count": null,
      "outputs": []
    },
    {
      "cell_type": "code",
      "source": [
        "# Mostrar los resultados\n",
        "plt.subplot(3, 3, 1)\n",
        "plt.imshow(imagen_volteada_horizontal)\n",
        "plt.title('Volteada Horizontal')\n",
        "plt.subplot(3, 3, 2)\n",
        "plt.imshow(imagen_volteada_vertical)\n",
        "plt.title('Volteada Vertical')\n",
        "plt.subplot(3, 3, 3)\n",
        "plt.imshow(imagen_volteada_ambos)\n",
        "plt.title('Volteada Ambos')\n",
        "plt.show()"
      ],
      "metadata": {
        "id": "m0_yXEVacj0-"
      },
      "execution_count": null,
      "outputs": []
    },
    {
      "cell_type": "markdown",
      "source": [
        "# 3. Mejora de la imagen"
      ],
      "metadata": {
        "id": "xnRX9BLndBLf"
      }
    },
    {
      "cell_type": "code",
      "source": [
        "# Ajuste de brillo y contraste\n",
        "def ajustar_brillo_contraste(imagen, brillo=0, contraste=1.0):\n",
        "    imagen_ajustada = cv2.convertScaleAbs(imagen, alpha=contraste, beta=brillo)\n",
        "    return imagen_ajustada"
      ],
      "metadata": {
        "id": "TyQB5oOydAEG"
      },
      "execution_count": null,
      "outputs": []
    },
    {
      "cell_type": "code",
      "source": [
        "imagen_brillo_mas_50 = ajustar_brillo_contraste(imagen, brillo=50)\n",
        "imagen_contraste_x1_5 = ajustar_brillo_contraste(imagen, contraste=1.5)"
      ],
      "metadata": {
        "id": "7cjBBtdZdC1S"
      },
      "execution_count": null,
      "outputs": []
    },
    {
      "cell_type": "code",
      "source": [
        "plt.subplot(1, 2, 1)\n",
        "plt.imshow(imagen_brillo_mas_50)\n",
        "plt.title('Brillo +50')\n",
        "\n",
        "plt.subplot(1, 2, 2)\n",
        "plt.imshow(imagen_contraste_x1_5)\n",
        "plt.title('Contraste x1.5')\n",
        "\n",
        "plt.show()"
      ],
      "metadata": {
        "id": "pzM-Fo01dHui"
      },
      "execution_count": null,
      "outputs": []
    },
    {
      "cell_type": "code",
      "source": [
        "# Suavizado de la imagen (blur)\n",
        "imagen_suavizada_media = cv2.blur(imagen, (5, 5))  # Promedio de los píxeles vecinos\n",
        "imagen_suavizada_gaussiana = cv2.GaussianBlur(imagen, (5, 5), 0)  # Promedio ponderado (más peso a los píxeles cercanos)"
      ],
      "metadata": {
        "id": "g_oOCbEYdCyf"
      },
      "execution_count": null,
      "outputs": []
    },
    {
      "cell_type": "code",
      "source": [
        "plt.subplot(1, 2, 1)\n",
        "plt.imshow(imagen_suavizada_media)\n",
        "plt.title('Imagen Suavizada Media')\n",
        "\n",
        "plt.subplot(1, 2, 2)\n",
        "plt.imshow(imagen_suavizada_gaussiana)\n",
        "plt.title('Imagen Suavizada Gaussiana')\n",
        "\n",
        "plt.show()"
      ],
      "metadata": {
        "id": "904KO9-6dCuY"
      },
      "execution_count": null,
      "outputs": []
    },
    {
      "cell_type": "code",
      "source": [
        "# Detección de bordes\n",
        "imagen_gris = cv2.cvtColor(imagen, cv2.COLOR_RGB2GRAY)  # Convertimos a escala de grises para la detección de bordes\n",
        "imagen_bordes_canny = cv2.Canny(imagen_gris, 100, 200)  # Detecta bordes en la imagen"
      ],
      "metadata": {
        "id": "pPvIzLUheJ4h"
      },
      "execution_count": null,
      "outputs": []
    },
    {
      "cell_type": "code",
      "source": [
        "plt.imshow(imagen_bordes_canny, cmap='gray')\n",
        "plt.title('Detección de Bordes Canny')\n",
        "plt.show()"
      ],
      "metadata": {
        "id": "jdJNjAeAeNQf"
      },
      "execution_count": null,
      "outputs": []
    },
    {
      "cell_type": "markdown",
      "source": [
        "# 4. Segmentación de la imagen"
      ],
      "metadata": {
        "id": "ewP5W0OeeSpQ"
      }
    },
    {
      "cell_type": "code",
      "source": [
        "# Segmentación: Dividir la imagen en regiones o partes más pequeñas.\n",
        "\n",
        "# Umbralización: Convertir la imagen a blanco y negro\n",
        "imagen_gris = cv2.cvtColor(imagen, cv2.COLOR_RGB2GRAY)\n",
        "_, imagen_umbralizada = cv2.threshold(imagen_gris, 128, 255, cv2.THRESH_BINARY)\n",
        "# El segundo valor (128) es el umbral.  Si el píxel es menor a 128, se vuelve negro (0), si es mayor, se vuelve blanco (255)."
      ],
      "metadata": {
        "id": "gObqXEy2ece7"
      },
      "execution_count": null,
      "outputs": []
    },
    {
      "cell_type": "code",
      "source": [
        "# Segmentación por color: Aislar objetos por su color (ejemplo: aislar el color azul)\n",
        "imagen_hsv = cv2.cvtColor(imagen, cv2.COLOR_RGB2HSV)\n",
        "limite_inferior_azul = np.array([100, 50, 50])  # Rango inferior del color azul en HSV\n",
        "limite_superior_azul = np.array([130, 255, 255])  # Rango superior del color azul en HSV\n",
        "mascara_azul = cv2.inRange(imagen_hsv, limite_inferior_azul, limite_superior_azul)  # Crear una máscara para el color azul\n",
        "imagen_segmentada_azul = cv2.bitwise_and(imagen, imagen, mask=mascara_azul)  # Aplicar la máscara a la imagen original"
      ],
      "metadata": {
        "id": "qry-FvV6ecW0"
      },
      "execution_count": null,
      "outputs": []
    },
    {
      "cell_type": "code",
      "source": [
        "# Mostrar los resultados\n",
        "plt.figure(figsize=(15, 5))\n",
        "plt.subplot(1, 3, 1)\n",
        "plt.imshow(imagen)\n",
        "plt.title('Original')\n",
        "plt.subplot(1, 3, 2)\n",
        "plt.imshow(imagen_umbralizada, cmap='gray')\n",
        "plt.title('Umbralizada')\n",
        "plt.subplot(1, 3, 3)\n",
        "plt.imshow(imagen_segmentada_azul)\n",
        "plt.title('Segmentada Azul')\n",
        "plt.show()"
      ],
      "metadata": {
        "id": "8Ch4_qgZecOC"
      },
      "execution_count": null,
      "outputs": []
    },
    {
      "cell_type": "markdown",
      "source": [
        "# 5. Transformaciones geométricas"
      ],
      "metadata": {
        "id": "zXPHPBo3fawH"
      }
    },
    {
      "cell_type": "code",
      "source": [
        "# Escalado: Cambiar el tamaño de la imagen.\n",
        "imagen_escalada_x2 = cv2.resize(imagen, (imagen.shape[1] * 2, imagen.shape[0] * 2))  # Duplicar el tamaño\n",
        "imagen_escalada_mitad = cv2.resize(imagen, (imagen.shape[1] // 2, imagen.shape[0] // 2))  # Reducir a la mitad"
      ],
      "metadata": {
        "id": "IYgDa7iAeR5G"
      },
      "execution_count": null,
      "outputs": []
    },
    {
      "cell_type": "code",
      "source": [
        "plt.figure(figsize=(15, 10))\n",
        "plt.subplot(3, 3, 1)\n",
        "plt.imshow(imagen)\n",
        "plt.title('Original')\n",
        "plt.subplot(3, 3, 2)\n",
        "plt.imshow(imagen_escalada_x2)\n",
        "plt.title('Escalado x2')\n",
        "plt.subplot(3, 3, 3)\n",
        "plt.imshow(imagen_escalada_mitad)\n",
        "plt.title('Escalado /2')"
      ],
      "metadata": {
        "id": "76mFC_aIfkhr"
      },
      "execution_count": null,
      "outputs": []
    },
    {
      "cell_type": "code",
      "source": [
        "# Traslación: Mover la imagen.\n",
        "matriz_traslacion = np.float32([[1, 0, 50], [0, 1, 100]])  # Desplazar 50 a la derecha y 100 hacia abajo\n",
        "imagen_trasladada = cv2.warpAffine(imagen, matriz_traslacion, (ancho, alto))"
      ],
      "metadata": {
        "id": "6yicXwtZf1yC"
      },
      "execution_count": null,
      "outputs": []
    },
    {
      "cell_type": "code",
      "source": [
        "plt.imshow(imagen_trasladada)\n",
        "plt.title('Traslación')"
      ],
      "metadata": {
        "id": "i2QPqSBQf4jk"
      },
      "execution_count": null,
      "outputs": []
    },
    {
      "cell_type": "code",
      "source": [
        "# Rotación: Girar la imagen.\n",
        "matriz_rotacion = cv2.getRotationMatrix2D(centro, 45, 1.0)  # Rotar 45 grados alrededor del centro\n",
        "imagen_rotada = cv2.warpAffine(imagen, matriz_rotacion, (ancho, alto))"
      ],
      "metadata": {
        "id": "rQTSvVHSf4gp"
      },
      "execution_count": null,
      "outputs": []
    },
    {
      "cell_type": "code",
      "source": [
        "plt.imshow(imagen_rotada)\n",
        "plt.title('Rotación')"
      ],
      "metadata": {
        "id": "x7wUoZ3zf4dn"
      },
      "execution_count": null,
      "outputs": []
    },
    {
      "cell_type": "code",
      "source": [
        "# Transformaciones afines y de perspectiva (MUY BASICO)\n",
        "# Transformación afín: Preserva las líneas rectas y el paralelismo.  Ej: rotación, traslación, escalado, cizalladura.\n",
        "puntos_originales = np.float32([[50, 50], [200, 50], [50, 200]])\n",
        "puntos_destino = np.float32([[100, 100], [300, 100], [100, 300]])\n",
        "matriz_afin = cv2.getAffineTransform(puntos_originales, puntos_destino)\n",
        "imagen_afin = cv2.warpAffine(imagen, matriz_afin, (ancho, alto))"
      ],
      "metadata": {
        "id": "4AZIGxGef4VZ"
      },
      "execution_count": null,
      "outputs": []
    },
    {
      "cell_type": "code",
      "source": [
        "plt.imshow(imagen_afin)\n",
        "plt.title('Afín')"
      ],
      "metadata": {
        "id": "9lszbrlzf8kV"
      },
      "execution_count": null,
      "outputs": []
    },
    {
      "cell_type": "code",
      "source": [
        "# Transformación de perspectiva:  Las líneas rectas se mantienen, pero no necesariamente el paralelismo.\n",
        "# Se usa para corregir la perspectiva de una imagen (ej: enderezar una foto de un documento).\n",
        "puntos_originales_perspectiva = np.float32([[0, 0], [ancho - 1, 0], [0, alto - 1], [ancho - 1, alto - 1]])\n",
        "puntos_destino_perspectiva = np.float32([[100, 50], [ancho + 50, 50], [50, alto - 50], [ancho + 100, alto - 100]])\n",
        "matriz_perspectiva = cv2.getPerspectiveTransform(puntos_originales_perspectiva, puntos_destino_perspectiva)\n",
        "imagen_perspectiva = cv2.warpPerspective(imagen, matriz_perspectiva, (ancho + 150, alto + 100))"
      ],
      "metadata": {
        "id": "K5tQg46Kf8aY"
      },
      "execution_count": null,
      "outputs": []
    },
    {
      "cell_type": "code",
      "source": [
        "plt.imshow(imagen_perspectiva)\n",
        "plt.title('Perspectiva')"
      ],
      "metadata": {
        "id": "WnCngAzSgT9_"
      },
      "execution_count": null,
      "outputs": []
    }
  ]
}